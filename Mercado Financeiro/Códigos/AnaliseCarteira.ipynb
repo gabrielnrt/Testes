{
 "cells": [
  {
   "cell_type": "markdown",
   "metadata": {},
   "source": [
    "# Variação total e percentual de um ativo de renda variável"
   ]
  },
  {
   "cell_type": "markdown",
   "metadata": {},
   "source": [
    "## Introdução"
   ]
  },
  {
   "cell_type": "markdown",
   "metadata": {},
   "source": [
    "### Objetivo"
   ]
  },
  {
   "cell_type": "markdown",
   "metadata": {},
   "source": [
    "A ideia neste notebook é desenvolver um código que retorne um gráfico contendo a variação total e percentual para cada ativo de renda variável dado uma carteira contendo o código do ativo, quantidade comprada, valor da unidade e a data em que a compra foi feita. \n",
    "\n",
    "Obs: É possível comprar um mesmo ativo em datas diferentes."
   ]
  },
  {
   "cell_type": "markdown",
   "metadata": {},
   "source": [
    "### Definições básicas e generalizações"
   ]
  },
  {
   "cell_type": "markdown",
   "metadata": {},
   "source": [
    "Definimos a **variação total** de um investimento por\n",
    "\n",
    "$$ \\Delta (t) \\equiv A(t) - I(t),$$\n",
    "\n",
    "onde $A(t)$ é o valor atual do patrimônio em $t$, e $I(t)$ é o valor investido até $t$.\n",
    "\n",
    "Além disso, definimos a **variação percentual** como\n",
    "\n",
    "$$ \\delta (t) \\equiv \\frac{A(t) - I(t)}{I(t)} = \\frac{A(t)}{I(t)} -1.$$\n",
    "\n",
    "Essas são as ideias básicas para cumprir o objetivo deste notebook. Feito isso, vamos começar pelo exemplo mais simples e sofisticando-o aos poucos."
   ]
  },
  {
   "cell_type": "markdown",
   "metadata": {},
   "source": [
    "\n",
    "#### Ex.1: $q_0$ unidades de um ativo comprados pelo preço (da unidade) $X_0$ em $t_0$"
   ]
  },
  {
   "cell_type": "markdown",
   "metadata": {},
   "source": [
    "Como $I(t < t_0) = 0$, então não faz sentido fazer um gráfico para $t < t_0$. Daí, para $t > t_0$, $A(t) = q_0 X$, e $I(t) = q_0 X_0$, onde $X = X(t)$ é o preço do ativo em $t$; o que nos leva a \n",
    "\n",
    "$$  \\Delta (t) = q_0(X - X_0), $$\n",
    "\n",
    "$$ \\delta (t) = \\frac{X}{X_0} -1. $$"
   ]
  },
  {
   "cell_type": "markdown",
   "metadata": {},
   "source": [
    "#### Ex.2: Um mesmo ativo comprado em 2 instantes distintos"
   ]
  },
  {
   "cell_type": "markdown",
   "metadata": {},
   "source": [
    "Sejam $q_1 = q(t_1)$ e $X_1 = X(t_1)$, com $t_1 > t_0$, e $(q_0,X_0)$ como no exemplo anterior. Logo, para $t_0 < t < t_1$ a variação total continua sendo $\\Delta = q_0(X - X_0)$; mas, para $t > t_1$, temos $A(t) = q_0X + q_1X = (q_0 + q_1)X$ e $I(t) = q_0X_0 + q_1X_1$; e assim, definindo a quantidade total $Q$ como\n",
    "\n",
    "$$ Q \\equiv q_0 + q_1,$$\n",
    "\n",
    "e chamando a média ponderada do preço do ativo comprado nos instantes $t_0$ e $t_1$ de $ \\overline{X} $,\n",
    "\n",
    "$$ \\overline{X} \\equiv \\frac{q_0 X_0 + q_1 X_1}{q_0 + q_1}, $$\n",
    "\n",
    "segue que\n",
    "\n",
    "$$ \\Delta = (q_0 + q_1)X - (q_0X_0 + q_1X_1)  = Q(X - \\overline{X}),$$\n",
    "\n",
    "$$ \\delta = \\frac{(q_0 + q_1)X}{q_0 X_0 + q_1 X_1} -1 = \\frac{X}{\\overline{X}} -1.$$\n",
    "\n",
    "Portanto,\n",
    "\n",
    "$$ \\Delta (t) = \\begin{cases} q_0(X - X_0) & t_0 < t < t_1, \\\\ Q(X - \\overline{X}) & t_1 < t. \\end{cases}  $$\n",
    "\n",
    "$$ \\delta (t) = \\begin{cases} X X_0^{-1} -1 & t_0 < t < t_1, \\\\ X \\overline{X}^{-1} -1 & t_1 < t. \\end{cases} $$"
   ]
  },
  {
   "cell_type": "markdown",
   "metadata": {},
   "source": [
    "#### Ex.3: Um mesmo ativo comprado em $n$ instantes distintos"
   ]
  },
  {
   "cell_type": "markdown",
   "metadata": {},
   "source": [
    "Fazendo $n$ compras de um mesmo ativo em instantes distintos, é fácil mostrar que as variações terão a mesma estrutura que no caso anterior.\n",
    "\n",
    "Chamando a quantidade total até a k-ésima compra ($k \\leq n$) por\n",
    "\n",
    "$$ Q_k \\equiv \\sum_{i = 0}^k q_i,$$\n",
    "\n",
    "e a média ponderada até a k-ésima compra por\n",
    "\n",
    "$$ \\overline{X}_k \\equiv \\frac{1}{Q_k}\\sum_{i = 0}^k q_i X_i, $$\n",
    "\n",
    "segue que a variação total é\n",
    "\n",
    "$$ \\Delta (t) = \\begin{cases} q_0(X - X_0) & t_0 < t < t_1, \\\\ \\vdots \\\\ Q_k(X - \\overline{X}_k) & t_k < t < t_{k+1}, \\\\ \\vdots \\\\ Q_n(X - \\overline{X}_n) & t_n < t, \\end{cases} $$\n",
    "\n",
    "e que a variação percentual é\n",
    "\n",
    "$$ \\delta (t) = \\begin{cases} X(X_0)^{-1} -1 & t_0 < t < t_1, \\\\ \\vdots \\\\ X(\\overline{X}_k)^{-1} -1 & t_k < t < t_{k+1}, \\\\ \\vdots \\\\ X(\\overline{X}_n)^{-1} & t_n < t. \\end{cases} $$"
   ]
  },
  {
   "cell_type": "markdown",
   "metadata": {},
   "source": []
  }
 ],
 "metadata": {
  "kernelspec": {
   "display_name": "Python 3.8.10 64-bit",
   "language": "python",
   "name": "python3"
  },
  "language_info": {
   "name": "python",
   "version": "3.8.10"
  },
  "orig_nbformat": 4,
  "vscode": {
   "interpreter": {
    "hash": "31f2aee4e71d21fbe5cf8b01ff0e069b9275f58929596ceb00d14d90e3e16cd6"
   }
  }
 },
 "nbformat": 4,
 "nbformat_minor": 2
}
