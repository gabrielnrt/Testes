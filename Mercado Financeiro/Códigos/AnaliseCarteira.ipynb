{
 "cells": [
  {
   "cell_type": "markdown",
   "metadata": {
    "tags": []
   },
   "source": [
    "# Variação total e percentual de um ativo de renda variável"
   ]
  },
  {
   "cell_type": "markdown",
   "metadata": {
    "jp-MarkdownHeadingCollapsed": true,
    "tags": []
   },
   "source": [
    "## **AVISO LEGAL**"
   ]
  },
  {
   "cell_type": "markdown",
   "metadata": {},
   "source": [
    "Os ativos que aparecerão neste notebook são meramente ilustrativas e de nenhuma forma representam recomendações de compra."
   ]
  },
  {
   "cell_type": "markdown",
   "metadata": {
    "tags": []
   },
   "source": [
    "## Introdução"
   ]
  },
  {
   "cell_type": "markdown",
   "metadata": {
    "tags": []
   },
   "source": [
    "### Objetivo"
   ]
  },
  {
   "cell_type": "markdown",
   "metadata": {},
   "source": [
    "A ideia neste notebook é desenvolver um código que retorne um gráfico contendo a variação total e percentual para cada ativo de renda variável dado uma carteira contendo o código do ativo, quantidade comprada, valor da unidade e a data em que a compra foi feita. \n",
    "\n",
    "Obs: É possível comprar um mesmo ativo em datas diferentes."
   ]
  },
  {
   "cell_type": "markdown",
   "metadata": {
    "tags": []
   },
   "source": [
    "### Definições básicas e generalizações"
   ]
  },
  {
   "cell_type": "markdown",
   "metadata": {},
   "source": [
    "Definimos a **variação total** de um investimento por\n",
    "\n",
    "$$ \\Delta (t) \\equiv A(t) - I(t),$$\n",
    "\n",
    "onde $A(t)$ é o valor atual do patrimônio em $t$, e $I(t)$ é o valor investido até $t$.\n",
    "\n",
    "Além disso, definimos a **variação percentual** como\n",
    "\n",
    "$$ \\delta (t) \\equiv \\frac{A(t) - I(t)}{I(t)} = \\frac{A(t)}{I(t)} -1.$$\n",
    "\n",
    "Essas são as ideias básicas para cumprir o objetivo deste notebook. Feito isso, vamos começar pelo exemplo mais simples e sofisticando-o aos poucos."
   ]
  },
  {
   "cell_type": "markdown",
   "metadata": {},
   "source": [
    "\n",
    "#### Ex.1: $q_0$ unidades de um ativo comprados pelo preço (da unidade) $X_0$ em $t_0$"
   ]
  },
  {
   "cell_type": "markdown",
   "metadata": {},
   "source": [
    "Como $I(t < t_0) = 0$, então não faz sentido fazer um gráfico para $t < t_0$. Daí, para $t > t_0$, $A(t) = q_0 X$, e $I(t) = q_0 X_0$, onde $X = X(t)$ é o preço do ativo em $t$; o que nos leva a \n",
    "\n",
    "$$  \\Delta (t) = q_0(X - X_0), $$\n",
    "\n",
    "$$ \\delta (t) = \\frac{X}{X_0} -1. $$"
   ]
  },
  {
   "cell_type": "markdown",
   "metadata": {},
   "source": [
    "#### Ex.2: Um mesmo ativo comprado em 2 instantes distintos"
   ]
  },
  {
   "cell_type": "markdown",
   "metadata": {},
   "source": [
    "Sejam $q_1 = q(t_1)$ e $X_1 = X(t_1)$, com $t_1 > t_0$, e $(q_0,X_0)$ como no exemplo anterior. Logo, para $t_0 < t < t_1$ a variação total continua sendo $\\Delta = q_0(X - X_0)$; mas, para $t > t_1$, temos $A(t) = q_0X + q_1X = (q_0 + q_1)X$ e $I(t) = q_0X_0 + q_1X_1$; e assim, definindo a quantidade total $Q$ como\n",
    "\n",
    "$$ Q \\equiv q_0 + q_1,$$\n",
    "\n",
    "e chamando a média ponderada do preço do ativo comprado nos instantes $t_0$ e $t_1$ de $ \\overline{X} $,\n",
    "\n",
    "$$ \\overline{X} \\equiv \\frac{q_0 X_0 + q_1 X_1}{q_0 + q_1}, $$\n",
    "\n",
    "segue que\n",
    "\n",
    "$$ \\Delta = (q_0 + q_1)X - (q_0X_0 + q_1X_1)  = Q(X - \\overline{X}),$$\n",
    "\n",
    "$$ \\delta = \\frac{(q_0 + q_1)X}{q_0 X_0 + q_1 X_1} -1 = \\frac{X}{\\overline{X}} -1.$$\n",
    "\n",
    "Portanto,\n",
    "\n",
    "$$ \\Delta (t) = \\begin{cases} q_0(X - X_0) & t_0 < t < t_1, \\\\ Q(X - \\overline{X}) & t_1 < t. \\end{cases}  $$\n",
    "\n",
    "$$ \\delta (t) = \\begin{cases} X X_0^{-1} -1 & t_0 < t < t_1, \\\\ X \\overline{X}^{-1} -1 & t_1 < t. \\end{cases} $$"
   ]
  },
  {
   "cell_type": "markdown",
   "metadata": {},
   "source": [
    "#### Ex.3: Um mesmo ativo comprado em $n$ instantes distintos"
   ]
  },
  {
   "cell_type": "markdown",
   "metadata": {},
   "source": [
    "Fazendo $n$ compras de um mesmo ativo em instantes distintos, é fácil mostrar que as variações terão a mesma estrutura que no caso anterior.\n",
    "\n",
    "Chamando a quantidade total até a k-ésima compra ($k \\leq n$) por\n",
    "\n",
    "$$ Q_k \\equiv \\sum_{i = 0}^k q_i,$$\n",
    "\n",
    "e a média ponderada até a k-ésima compra por\n",
    "\n",
    "$$ \\overline{X}_k \\equiv \\frac{1}{Q_k}\\sum_{i = 0}^k q_i X_i, $$\n",
    "\n",
    "segue que a variação total é\n",
    "\n",
    "$$ \\Delta (t) = \\begin{cases} q_0(X - X_0) & t_0 < t < t_1, \\\\ \\vdots \\\\ Q_k(X - \\overline{X}_k) & t_k < t < t_{k+1}, \\\\ \\vdots \\\\ Q_n(X - \\overline{X}_n) & t_n < t, \\end{cases} $$\n",
    "\n",
    "e que a variação percentual é\n",
    "\n",
    "$$ \\delta (t) = \\begin{cases} X(X_0)^{-1} -1 & t_0 < t < t_1, \\\\ \\vdots \\\\ X(\\overline{X}_k)^{-1} -1 & t_k < t < t_{k+1}, \\\\ \\vdots \\\\ X(\\overline{X}_n)^{-1} & t_n < t. \\end{cases} $$"
   ]
  },
  {
   "cell_type": "markdown",
   "metadata": {
    "jp-MarkdownHeadingCollapsed": true,
    "tags": []
   },
   "source": [
    "## Arquivo de entrada"
   ]
  },
  {
   "cell_type": "markdown",
   "metadata": {
    "jp-MarkdownHeadingCollapsed": true,
    "tags": []
   },
   "source": [
    "### Inserindo a carteira manualmente"
   ]
  },
  {
   "cell_type": "markdown",
   "metadata": {},
   "source": [
    "Para nossas análises neste notebook, assumiremos que toda carteira deva ter 4 colunas, que são \"Ativo\", \"Quantidade\", \"Compra (R$)\", e \"Data da Compra\", onde a última coluna tem que estar no formato \"dd/mm/aaaa\" (mais tarde faremos a conversão para o formato americano).\n",
    "\n",
    "Sendo assim, o código para a criação manual de uma carteira com essas características fica"
   ]
  },
  {
   "cell_type": "code",
   "execution_count": 5,
   "metadata": {},
   "outputs": [
    {
     "name": "stdin",
     "output_type": "stream",
     "text": [
      "\n",
      "Digite o código do ativo:  VALE3\n",
      "Digite a quantidade comprada:  3\n",
      "Digite o preço de compra da unidade:  112.49\n",
      "Digite a data da compra no formato dd/mm/aaaa:  13/05/2021\n",
      "\n",
      "Gostaria de inserir mais uma compra na carteira? [s/n]:  n\n"
     ]
    },
    {
     "data": {
      "text/html": [
       "<div>\n",
       "<style scoped>\n",
       "    .dataframe tbody tr th:only-of-type {\n",
       "        vertical-align: middle;\n",
       "    }\n",
       "\n",
       "    .dataframe tbody tr th {\n",
       "        vertical-align: top;\n",
       "    }\n",
       "\n",
       "    .dataframe thead th {\n",
       "        text-align: right;\n",
       "    }\n",
       "</style>\n",
       "<table border=\"1\" class=\"dataframe\">\n",
       "  <thead>\n",
       "    <tr style=\"text-align: right;\">\n",
       "      <th></th>\n",
       "      <th>Ativo</th>\n",
       "      <th>Quantidade</th>\n",
       "      <th>Compra (R$)</th>\n",
       "      <th>Data da Compra</th>\n",
       "    </tr>\n",
       "  </thead>\n",
       "  <tbody>\n",
       "    <tr>\n",
       "      <th>0</th>\n",
       "      <td>VALE3</td>\n",
       "      <td>3</td>\n",
       "      <td>112.49</td>\n",
       "      <td>13/05/2021</td>\n",
       "    </tr>\n",
       "  </tbody>\n",
       "</table>\n",
       "</div>"
      ],
      "text/plain": [
       "   Ativo  Quantidade  Compra (R$) Data da Compra\n",
       "0  VALE3           3       112.49     13/05/2021"
      ]
     },
     "execution_count": 5,
     "metadata": {},
     "output_type": "execute_result"
    }
   ],
   "source": [
    "from pandas import DataFrame\n",
    "\n",
    "Ativos = []\n",
    "Quantidades = []\n",
    "Precos = []\n",
    "Fechas = []\n",
    "\n",
    "lampada = True\n",
    "while lampada:\n",
    "    Ativos.append(input('\\nDigite o código do ativo: '))\n",
    "\n",
    "    Quantidades.append(int(input('Digite a quantidade comprada: ')))\n",
    "\n",
    "    Precos.append(float(input('Digite o preço de compra da unidade: ')))\n",
    "\n",
    "    Fechas.append(input('Digite a data da compra no formato dd/mm/aaaa: '))\n",
    "\n",
    "    char = input('\\nGostaria de inserir mais uma compra na carteira? [s/n]: ')\n",
    "\n",
    "    if char == 'n':\n",
    "        lampada = False\n",
    "\n",
    "        carteira = DataFrame({'Ativo':Ativos,\n",
    "                             'Quantidade':Quantidades,\n",
    "                             'Compra (R$)':Precos,\n",
    "                             'Data da Compra':Fechas})\n",
    "\n",
    "carteira"
   ]
  },
  {
   "cell_type": "markdown",
   "metadata": {},
   "source": [
    "Aqui colocamos as ações da Vale apenas como ilustração."
   ]
  },
  {
   "cell_type": "markdown",
   "metadata": {
    "jp-MarkdownHeadingCollapsed": true,
    "tags": []
   },
   "source": [
    "### Inserindo uma carteira pronta"
   ]
  },
  {
   "cell_type": "markdown",
   "metadata": {},
   "source": [
    "Para uma carteira pronta em arquivo ```.csv```, contendo as informações mencionadas anteriormente, devemos apenas informar os caracteres de separação de colunas, decimais e o nome do arquivo. Assim, usando o arquivo ```CarteiraTeste.csv``` como exemplo de carteira para realizarmos os gráficos, temos"
   ]
  },
  {
   "cell_type": "code",
   "execution_count": 2,
   "metadata": {},
   "outputs": [
    {
     "name": "stdin",
     "output_type": "stream",
     "text": [
      "Digite o nome do arquivo incluindo o .csv:  CarteiraTeste.csv\n",
      "Digite o caractere que separa as colunas:  ;\n",
      "Digite o caractere de decimal:  ,\n"
     ]
    },
    {
     "data": {
      "text/html": [
       "<div>\n",
       "<style scoped>\n",
       "    .dataframe tbody tr th:only-of-type {\n",
       "        vertical-align: middle;\n",
       "    }\n",
       "\n",
       "    .dataframe tbody tr th {\n",
       "        vertical-align: top;\n",
       "    }\n",
       "\n",
       "    .dataframe thead th {\n",
       "        text-align: right;\n",
       "    }\n",
       "</style>\n",
       "<table border=\"1\" class=\"dataframe\">\n",
       "  <thead>\n",
       "    <tr style=\"text-align: right;\">\n",
       "      <th></th>\n",
       "      <th>Ativo</th>\n",
       "      <th>Quantidade</th>\n",
       "      <th>Compra (R$)</th>\n",
       "      <th>Data da Compra</th>\n",
       "    </tr>\n",
       "  </thead>\n",
       "  <tbody>\n",
       "    <tr>\n",
       "      <th>0</th>\n",
       "      <td>VALE3</td>\n",
       "      <td>3</td>\n",
       "      <td>112.49</td>\n",
       "      <td>13/05/2021</td>\n",
       "    </tr>\n",
       "    <tr>\n",
       "      <th>1</th>\n",
       "      <td>PETR4</td>\n",
       "      <td>8</td>\n",
       "      <td>24.04</td>\n",
       "      <td>05/04/2021</td>\n",
       "    </tr>\n",
       "    <tr>\n",
       "      <th>2</th>\n",
       "      <td>ITUB4</td>\n",
       "      <td>2</td>\n",
       "      <td>30.80</td>\n",
       "      <td>25/06/2021</td>\n",
       "    </tr>\n",
       "    <tr>\n",
       "      <th>3</th>\n",
       "      <td>VALE3</td>\n",
       "      <td>4</td>\n",
       "      <td>96.09</td>\n",
       "      <td>18/03/2022</td>\n",
       "    </tr>\n",
       "    <tr>\n",
       "      <th>4</th>\n",
       "      <td>VALE3</td>\n",
       "      <td>15</td>\n",
       "      <td>77.08</td>\n",
       "      <td>04/01/2022</td>\n",
       "    </tr>\n",
       "    <tr>\n",
       "      <th>5</th>\n",
       "      <td>ITUB4</td>\n",
       "      <td>9</td>\n",
       "      <td>22.15</td>\n",
       "      <td>14/07/2022</td>\n",
       "    </tr>\n",
       "  </tbody>\n",
       "</table>\n",
       "</div>"
      ],
      "text/plain": [
       "   Ativo  Quantidade  Compra (R$) Data da Compra\n",
       "0  VALE3           3       112.49     13/05/2021\n",
       "1  PETR4           8        24.04     05/04/2021\n",
       "2  ITUB4           2        30.80     25/06/2021\n",
       "3  VALE3           4        96.09     18/03/2022\n",
       "4  VALE3          15        77.08     04/01/2022\n",
       "5  ITUB4           9        22.15     14/07/2022"
      ]
     },
     "execution_count": 2,
     "metadata": {},
     "output_type": "execute_result"
    }
   ],
   "source": [
    "from pandas import read_csv\n",
    "\n",
    "arquivo = input('Digite o nome do arquivo incluindo o .csv: ')\n",
    "\n",
    "separador = input('Digite o caractere que separa as colunas: ')\n",
    "\n",
    "dec = input('Digite o caractere de decimal: ')\n",
    "\n",
    "carteira = read_csv(arquivo,\n",
    "                    sep = separador,\n",
    "                    decimal = dec)\n",
    "\n",
    "carteira"
   ]
  },
  {
   "cell_type": "markdown",
   "metadata": {},
   "source": [
    "Aqui reiteramos mais uma vez que, neste notebook, os ativos escolhidos possuem finalidade estritamente ilustrativa. Também vale ressaltar que coloquei ativos comprados mais de uma vez para implementar as fórmulas da variação total e percentual."
   ]
  },
  {
   "cell_type": "markdown",
   "metadata": {
    "tags": []
   },
   "source": [
    "### Mudando o formato de data"
   ]
  },
  {
   "cell_type": "markdown",
   "metadata": {},
   "source": [
    "Como faremos uma requisição API do Yahoo Finanças, devemos transformar nossa string num objeto de data, que é feito com a biblioteca ```datetime``` e usando de novo a função ```read_csv```, mas especificando os parâmetros ```parse_dates``` e ```date_parser```."
   ]
  },
  {
   "cell_type": "code",
   "execution_count": 3,
   "metadata": {},
   "outputs": [
    {
     "data": {
      "text/html": [
       "<div>\n",
       "<style scoped>\n",
       "    .dataframe tbody tr th:only-of-type {\n",
       "        vertical-align: middle;\n",
       "    }\n",
       "\n",
       "    .dataframe tbody tr th {\n",
       "        vertical-align: top;\n",
       "    }\n",
       "\n",
       "    .dataframe thead th {\n",
       "        text-align: right;\n",
       "    }\n",
       "</style>\n",
       "<table border=\"1\" class=\"dataframe\">\n",
       "  <thead>\n",
       "    <tr style=\"text-align: right;\">\n",
       "      <th></th>\n",
       "      <th>Ativo</th>\n",
       "      <th>Quantidade</th>\n",
       "      <th>Compra (R$)</th>\n",
       "      <th>Data da Compra</th>\n",
       "    </tr>\n",
       "  </thead>\n",
       "  <tbody>\n",
       "    <tr>\n",
       "      <th>0</th>\n",
       "      <td>VALE3</td>\n",
       "      <td>3</td>\n",
       "      <td>112.49</td>\n",
       "      <td>2021-05-13</td>\n",
       "    </tr>\n",
       "    <tr>\n",
       "      <th>1</th>\n",
       "      <td>PETR4</td>\n",
       "      <td>8</td>\n",
       "      <td>24.04</td>\n",
       "      <td>2021-04-05</td>\n",
       "    </tr>\n",
       "    <tr>\n",
       "      <th>2</th>\n",
       "      <td>ITUB4</td>\n",
       "      <td>2</td>\n",
       "      <td>30.80</td>\n",
       "      <td>2021-06-25</td>\n",
       "    </tr>\n",
       "    <tr>\n",
       "      <th>3</th>\n",
       "      <td>VALE3</td>\n",
       "      <td>4</td>\n",
       "      <td>96.09</td>\n",
       "      <td>2022-03-18</td>\n",
       "    </tr>\n",
       "    <tr>\n",
       "      <th>4</th>\n",
       "      <td>VALE3</td>\n",
       "      <td>15</td>\n",
       "      <td>77.08</td>\n",
       "      <td>2022-01-04</td>\n",
       "    </tr>\n",
       "    <tr>\n",
       "      <th>5</th>\n",
       "      <td>ITUB4</td>\n",
       "      <td>9</td>\n",
       "      <td>22.15</td>\n",
       "      <td>2022-07-14</td>\n",
       "    </tr>\n",
       "  </tbody>\n",
       "</table>\n",
       "</div>"
      ],
      "text/plain": [
       "   Ativo  Quantidade  Compra (R$) Data da Compra\n",
       "0  VALE3           3       112.49     2021-05-13\n",
       "1  PETR4           8        24.04     2021-04-05\n",
       "2  ITUB4           2        30.80     2021-06-25\n",
       "3  VALE3           4        96.09     2022-03-18\n",
       "4  VALE3          15        77.08     2022-01-04\n",
       "5  ITUB4           9        22.15     2022-07-14"
      ]
     },
     "execution_count": 3,
     "metadata": {},
     "output_type": "execute_result"
    }
   ],
   "source": [
    "from datetime import datetime\n",
    "\n",
    "def conversor(fecha):\n",
    "    return datetime.strptime(fecha, '%d/%m/%Y')\n",
    "\n",
    "carteira = read_csv(arquivo,\n",
    "                    sep = separador,\n",
    "                    decimal = dec,\n",
    "                    parse_dates = ['Data da Compra'],\n",
    "                    date_parser = conversor)\n",
    "\n",
    "carteira"
   ]
  },
  {
   "cell_type": "markdown",
   "metadata": {
    "tags": []
   },
   "source": [
    "## Processamento dos dados"
   ]
  },
  {
   "cell_type": "markdown",
   "metadata": {
    "tags": []
   },
   "source": [
    "### Criação das Sub-Carteiras"
   ]
  },
  {
   "cell_type": "markdown",
   "metadata": {},
   "source": [
    "A ideia desta seção é produzir DataFrame's contendo apenas um tipo de ativo através do objeto inicial ```carteira```. \n",
    "\n",
    "Antes disso, vamos ordenar toda a tabela pela ordem cronológica da data de compra, pois desta maneira todas as sub-carteiras estarão ordenadas nesse critério."
   ]
  },
  {
   "cell_type": "code",
   "execution_count": 4,
   "metadata": {},
   "outputs": [
    {
     "data": {
      "text/html": [
       "<div>\n",
       "<style scoped>\n",
       "    .dataframe tbody tr th:only-of-type {\n",
       "        vertical-align: middle;\n",
       "    }\n",
       "\n",
       "    .dataframe tbody tr th {\n",
       "        vertical-align: top;\n",
       "    }\n",
       "\n",
       "    .dataframe thead th {\n",
       "        text-align: right;\n",
       "    }\n",
       "</style>\n",
       "<table border=\"1\" class=\"dataframe\">\n",
       "  <thead>\n",
       "    <tr style=\"text-align: right;\">\n",
       "      <th></th>\n",
       "      <th>Ativo</th>\n",
       "      <th>Quantidade</th>\n",
       "      <th>Compra (R$)</th>\n",
       "      <th>Data da Compra</th>\n",
       "    </tr>\n",
       "  </thead>\n",
       "  <tbody>\n",
       "    <tr>\n",
       "      <th>1</th>\n",
       "      <td>PETR4</td>\n",
       "      <td>8</td>\n",
       "      <td>24.04</td>\n",
       "      <td>2021-04-05</td>\n",
       "    </tr>\n",
       "    <tr>\n",
       "      <th>0</th>\n",
       "      <td>VALE3</td>\n",
       "      <td>3</td>\n",
       "      <td>112.49</td>\n",
       "      <td>2021-05-13</td>\n",
       "    </tr>\n",
       "    <tr>\n",
       "      <th>2</th>\n",
       "      <td>ITUB4</td>\n",
       "      <td>2</td>\n",
       "      <td>30.80</td>\n",
       "      <td>2021-06-25</td>\n",
       "    </tr>\n",
       "    <tr>\n",
       "      <th>4</th>\n",
       "      <td>VALE3</td>\n",
       "      <td>15</td>\n",
       "      <td>77.08</td>\n",
       "      <td>2022-01-04</td>\n",
       "    </tr>\n",
       "    <tr>\n",
       "      <th>3</th>\n",
       "      <td>VALE3</td>\n",
       "      <td>4</td>\n",
       "      <td>96.09</td>\n",
       "      <td>2022-03-18</td>\n",
       "    </tr>\n",
       "    <tr>\n",
       "      <th>5</th>\n",
       "      <td>ITUB4</td>\n",
       "      <td>9</td>\n",
       "      <td>22.15</td>\n",
       "      <td>2022-07-14</td>\n",
       "    </tr>\n",
       "  </tbody>\n",
       "</table>\n",
       "</div>"
      ],
      "text/plain": [
       "   Ativo  Quantidade  Compra (R$) Data da Compra\n",
       "1  PETR4           8        24.04     2021-04-05\n",
       "0  VALE3           3       112.49     2021-05-13\n",
       "2  ITUB4           2        30.80     2021-06-25\n",
       "4  VALE3          15        77.08     2022-01-04\n",
       "3  VALE3           4        96.09     2022-03-18\n",
       "5  ITUB4           9        22.15     2022-07-14"
      ]
     },
     "execution_count": 4,
     "metadata": {},
     "output_type": "execute_result"
    }
   ],
   "source": [
    "carteira.sort_values(by = 'Data da Compra',\n",
    "                     inplace = True)\n",
    "\n",
    "carteira"
   ]
  },
  {
   "cell_type": "markdown",
   "metadata": {},
   "source": [
    "Agora vamos obter uma lista ordenada contendo o nome de todos os ativos que existem na carteira. Dentre as diferentes maneiras de fazer isso, vamos criar um conjunto para retirar os elementos repetidos, e depois criar uma lista em cima desse conjunto."
   ]
  },
  {
   "cell_type": "code",
   "execution_count": 5,
   "metadata": {},
   "outputs": [
    {
     "data": {
      "text/plain": [
       "['ITUB4', 'PETR4', 'VALE3']"
      ]
     },
     "execution_count": 5,
     "metadata": {},
     "output_type": "execute_result"
    }
   ],
   "source": [
    "lista = list( set(carteira['Ativo']) )\n",
    "\n",
    "lista.sort()\n",
    "\n",
    "lista"
   ]
  },
  {
   "cell_type": "markdown",
   "metadata": {},
   "source": [
    "Agora que temos essa lista, vamos percorrê-la de modo que em cada passo vamos criar uma sub-carteira com o método ```loc``` do pandas."
   ]
  },
  {
   "cell_type": "code",
   "execution_count": 6,
   "metadata": {},
   "outputs": [
    {
     "name": "stdout",
     "output_type": "stream",
     "text": [
      "   Ativo  Quantidade  Compra (R$) Data da Compra\n",
      "2  ITUB4           2        30.80     2021-06-25\n",
      "5  ITUB4           9        22.15     2022-07-14 \n",
      "\n",
      "   Ativo  Quantidade  Compra (R$) Data da Compra\n",
      "1  PETR4           8        24.04     2021-04-05 \n",
      "\n",
      "   Ativo  Quantidade  Compra (R$) Data da Compra\n",
      "0  VALE3           3       112.49     2021-05-13\n",
      "4  VALE3          15        77.08     2022-01-04\n",
      "3  VALE3           4        96.09     2022-03-18 \n",
      "\n"
     ]
    }
   ],
   "source": [
    "for nome in lista:\n",
    "     subcarteira = carteira.loc[ carteira['Ativo'] == nome ]\n",
    "    \n",
    "     print(subcarteira,'\\n')\n",
    "    "
   ]
  },
  {
   "cell_type": "markdown",
   "metadata": {},
   "source": [
    "### Roteiro para os próximos passos"
   ]
  },
  {
   "cell_type": "markdown",
   "metadata": {},
   "source": [
    "Boa parte das linhas de comando daqui em diante estarão dentro do laço ```for``` do bloco executado anteriormente, porque devemos, para cada subcarteira,\n",
    "\n",
    "* Coletar a data mais antiga, que é a primeira pois os dados foram organizados de forma ascendente;\n",
    "\n",
    "* Usar essa data para fazer uma requisição API do Yahoo Finanças e coletar o histórico do preço do ativo no período da primeira compra até hoje, onde ```hoje = datetime.date.today()```;\n",
    "\n",
    "* Atualizar o valor da média ponderada a cada nova compra do mesmo ativo, o que significa criar uma nova coluna na subcarteira correspondente a $\\overline{X}_k$\n",
    "\n",
    "* Criar 2 DataFrame's com o mesmo número de linhas da tabela do histórico do preço do ativo, em que um é para os valores da Variação Total ($\\Delta (t)$), e outro é para a Variação Percentual ($\\delta (t)$). Obs: a cada recompra do mesmo ativo, as fórmulas que determinam essas variações mudam.\n",
    "\n",
    "* Fazer numa mesma tela um gráfico contendo as duas variações. Para isso é necessário haver 2 eixos y, um na direita e outro na esquerda da tela."
   ]
  },
  {
   "cell_type": "code",
   "execution_count": null,
   "metadata": {},
   "outputs": [],
   "source": []
  }
 ],
 "metadata": {
  "kernelspec": {
   "display_name": "Python 3 (ipykernel)",
   "language": "python",
   "name": "python3"
  },
  "language_info": {
   "codemirror_mode": {
    "name": "ipython",
    "version": 3
   },
   "file_extension": ".py",
   "mimetype": "text/x-python",
   "name": "python",
   "nbconvert_exporter": "python",
   "pygments_lexer": "ipython3",
   "version": "3.8.10"
  },
  "vscode": {
   "interpreter": {
    "hash": "31f2aee4e71d21fbe5cf8b01ff0e069b9275f58929596ceb00d14d90e3e16cd6"
   }
  }
 },
 "nbformat": 4,
 "nbformat_minor": 4
}
