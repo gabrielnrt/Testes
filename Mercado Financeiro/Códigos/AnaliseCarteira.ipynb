{
 "cells": [
  {
   "cell_type": "markdown",
   "metadata": {
    "tags": []
   },
   "source": [
    "# Variação total e percentual de um ativo de renda variável"
   ]
  },
  {
   "cell_type": "markdown",
   "metadata": {
    "jp-MarkdownHeadingCollapsed": true,
    "tags": []
   },
   "source": [
    "## **AVISO LEGAL**"
   ]
  },
  {
   "cell_type": "markdown",
   "metadata": {},
   "source": [
    "Os ativos que aparecerão neste notebook são meramente ilustrativas e de nenhuma forma representam recomendações de compra."
   ]
  },
  {
   "cell_type": "markdown",
   "metadata": {
    "tags": []
   },
   "source": [
    "## Introdução"
   ]
  },
  {
   "cell_type": "markdown",
   "metadata": {
    "tags": []
   },
   "source": [
    "### Objetivo"
   ]
  },
  {
   "cell_type": "markdown",
   "metadata": {},
   "source": [
    "A ideia neste notebook é desenvolver um código que retorne um gráfico contendo a variação total e percentual para cada ativo de renda variável dado uma carteira contendo o código do ativo, quantidade comprada, valor da unidade e a data em que a compra foi feita. \n",
    "\n",
    "Obs: É possível comprar um mesmo ativo em datas diferentes."
   ]
  },
  {
   "cell_type": "markdown",
   "metadata": {
    "tags": []
   },
   "source": [
    "### Definições básicas e generalizações"
   ]
  },
  {
   "cell_type": "markdown",
   "metadata": {},
   "source": [
    "Definimos a **variação total** de um investimento por\n",
    "\n",
    "$$ \\Delta (t) \\equiv A(t) - I(t),$$\n",
    "\n",
    "onde $A(t)$ é o valor atual do patrimônio em $t$, e $I(t)$ é o valor investido até $t$.\n",
    "\n",
    "Além disso, definimos a **variação percentual** como\n",
    "\n",
    "$$ \\delta (t) \\equiv \\frac{A(t) - I(t)}{I(t)} = \\frac{A(t)}{I(t)} -1.$$\n",
    "\n",
    "Essas são as ideias básicas para cumprir o objetivo deste notebook. Feito isso, vamos começar pelo exemplo mais simples e sofisticando-o aos poucos."
   ]
  },
  {
   "cell_type": "markdown",
   "metadata": {},
   "source": [
    "\n",
    "#### Ex.1: $q_0$ unidades de um ativo comprados pelo preço (da unidade) $X_0$ em $t_0$"
   ]
  },
  {
   "cell_type": "markdown",
   "metadata": {},
   "source": [
    "Como $I(t < t_0) = 0$, então não faz sentido fazer um gráfico para $t < t_0$. Daí, para $t > t_0$, $A(t) = q_0 X$, e $I(t) = q_0 X_0$, onde $X = X(t)$ é o preço do ativo em $t$; o que nos leva a \n",
    "\n",
    "$$  \\Delta (t) = q_0(X - X_0), $$\n",
    "\n",
    "$$ \\delta (t) = \\frac{X}{X_0} -1. $$"
   ]
  },
  {
   "cell_type": "markdown",
   "metadata": {},
   "source": [
    "#### Ex.2: Um mesmo ativo comprado em 2 instantes distintos"
   ]
  },
  {
   "cell_type": "markdown",
   "metadata": {},
   "source": [
    "Sejam $q_1 = q(t_1)$ e $X_1 = X(t_1)$, com $t_1 > t_0$, e $(q_0,X_0)$ como no exemplo anterior. Logo, para $t_0 < t < t_1$ a variação total continua sendo $\\Delta = q_0(X - X_0)$; mas, para $t > t_1$, temos $A(t) = q_0X + q_1X = (q_0 + q_1)X$ e $I(t) = q_0X_0 + q_1X_1$; e assim, definindo a quantidade total $Q$ como\n",
    "\n",
    "$$ Q \\equiv q_0 + q_1,$$\n",
    "\n",
    "e chamando a média ponderada do preço do ativo comprado nos instantes $t_0$ e $t_1$ de $ \\overline{X} $,\n",
    "\n",
    "$$ \\overline{X} \\equiv \\frac{q_0 X_0 + q_1 X_1}{q_0 + q_1}, $$\n",
    "\n",
    "segue que\n",
    "\n",
    "$$ \\Delta = (q_0 + q_1)X - (q_0X_0 + q_1X_1)  = Q(X - \\overline{X}),$$\n",
    "\n",
    "$$ \\delta = \\frac{(q_0 + q_1)X}{q_0 X_0 + q_1 X_1} -1 = \\frac{X}{\\overline{X}} -1.$$\n",
    "\n",
    "Portanto,\n",
    "\n",
    "$$ \\Delta (t) = \\begin{cases} q_0(X - X_0) & t_0 < t < t_1, \\\\ Q(X - \\overline{X}) & t_1 < t. \\end{cases}  $$\n",
    "\n",
    "$$ \\delta (t) = \\begin{cases} X X_0^{-1} -1 & t_0 < t < t_1, \\\\ X \\overline{X}^{-1} -1 & t_1 < t. \\end{cases} $$"
   ]
  },
  {
   "cell_type": "markdown",
   "metadata": {},
   "source": [
    "#### Ex.3: Um mesmo ativo comprado em $n$ instantes distintos"
   ]
  },
  {
   "cell_type": "markdown",
   "metadata": {},
   "source": [
    "Fazendo $n$ compras de um mesmo ativo em instantes distintos, é fácil mostrar que as variações terão a mesma estrutura que no caso anterior.\n",
    "\n",
    "Chamando a quantidade total até a k-ésima compra ($k < n$) por\n",
    "\n",
    "$$ Q_k \\equiv \\sum_{i = 0}^k q_i,$$\n",
    "\n",
    "e a média ponderada até a k-ésima compra por\n",
    "\n",
    "$$ \\overline{X}_k \\equiv \\frac{1}{Q_k}\\sum_{i = 0}^k q_i X_i, $$\n",
    "\n",
    "segue que a variação total é\n",
    "\n",
    "$$ \\Delta (t) = \\begin{cases} q_0(X - X_0) & t_0 < t < t_1, \\\\ \\vdots \\\\ Q_k(X - \\overline{X}_k) & t_k < t < t_{k+1}, \\\\ \\vdots \\\\ Q_{n-1}(X - \\overline{X}_{n-1}) & t_{n-1} < t, \\end{cases} $$\n",
    "\n",
    "e que a variação percentual é\n",
    "\n",
    "$$ \\delta (t) = \\begin{cases} X(X_0)^{-1} -1 & t_0 < t < t_1, \\\\ \\vdots \\\\ X(\\overline{X}_k)^{-1} -1 & t_k < t < t_{k+1}, \\\\ \\vdots \\\\ X(\\overline{X}_{n-1})^{-1} -1 & t_{n-1} < t. \\end{cases} $$"
   ]
  },
  {
   "cell_type": "markdown",
   "metadata": {
    "tags": []
   },
   "source": [
    "## Arquivo de entrada"
   ]
  },
  {
   "cell_type": "markdown",
   "metadata": {
    "jp-MarkdownHeadingCollapsed": true,
    "tags": []
   },
   "source": [
    "### Inserindo a carteira manualmente"
   ]
  },
  {
   "cell_type": "markdown",
   "metadata": {},
   "source": [
    "Para nossas análises neste notebook, assumiremos que toda carteira deva ter 4 colunas, que são \"Ativo\", \"Quantidade\", \"Compra (R$)\", e \"Data da Compra\", onde a última coluna tem que estar no formato \"dd/mm/aaaa\" (mais tarde faremos a conversão para o formato americano).\n",
    "\n",
    "Sendo assim, o código para a criação manual de uma carteira com essas características fica"
   ]
  },
  {
   "cell_type": "code",
   "execution_count": 5,
   "metadata": {},
   "outputs": [
    {
     "name": "stdin",
     "output_type": "stream",
     "text": [
      "\n",
      "Digite o código do ativo:  VALE3\n",
      "Digite a quantidade comprada:  3\n",
      "Digite o preço de compra da unidade:  112.49\n",
      "Digite a data da compra no formato dd/mm/aaaa:  13/05/2021\n",
      "\n",
      "Gostaria de inserir mais uma compra na carteira? [s/n]:  n\n"
     ]
    },
    {
     "data": {
      "text/html": [
       "<div>\n",
       "<style scoped>\n",
       "    .dataframe tbody tr th:only-of-type {\n",
       "        vertical-align: middle;\n",
       "    }\n",
       "\n",
       "    .dataframe tbody tr th {\n",
       "        vertical-align: top;\n",
       "    }\n",
       "\n",
       "    .dataframe thead th {\n",
       "        text-align: right;\n",
       "    }\n",
       "</style>\n",
       "<table border=\"1\" class=\"dataframe\">\n",
       "  <thead>\n",
       "    <tr style=\"text-align: right;\">\n",
       "      <th></th>\n",
       "      <th>Ativo</th>\n",
       "      <th>Quantidade</th>\n",
       "      <th>Compra (R$)</th>\n",
       "      <th>Data da Compra</th>\n",
       "    </tr>\n",
       "  </thead>\n",
       "  <tbody>\n",
       "    <tr>\n",
       "      <th>0</th>\n",
       "      <td>VALE3</td>\n",
       "      <td>3</td>\n",
       "      <td>112.49</td>\n",
       "      <td>13/05/2021</td>\n",
       "    </tr>\n",
       "  </tbody>\n",
       "</table>\n",
       "</div>"
      ],
      "text/plain": [
       "   Ativo  Quantidade  Compra (R$) Data da Compra\n",
       "0  VALE3           3       112.49     13/05/2021"
      ]
     },
     "execution_count": 5,
     "metadata": {},
     "output_type": "execute_result"
    }
   ],
   "source": [
    "from pandas import DataFrame\n",
    "\n",
    "Ativos = []\n",
    "Quantidades = []\n",
    "Precos = []\n",
    "Fechas = []\n",
    "\n",
    "lampada = True\n",
    "while lampada:\n",
    "    Ativos.append(input('\\nDigite o código do ativo: '))\n",
    "\n",
    "    Quantidades.append(int(input('Digite a quantidade comprada: ')))\n",
    "\n",
    "    Precos.append(float(input('Digite o preço de compra da unidade: ')))\n",
    "\n",
    "    Fechas.append(input('Digite a data da compra no formato dd/mm/aaaa: '))\n",
    "\n",
    "    char = input('\\nGostaria de inserir mais uma compra na carteira? [s/n]: ')\n",
    "\n",
    "    if char == 'n':\n",
    "        lampada = False\n",
    "\n",
    "        carteira = DataFrame({'Ativo':Ativos,\n",
    "                             'Quantidade':Quantidades,\n",
    "                             'Compra (R$)':Precos,\n",
    "                             'Data da Compra':Fechas})\n",
    "\n",
    "carteira"
   ]
  },
  {
   "cell_type": "markdown",
   "metadata": {},
   "source": [
    "Aqui colocamos as ações da Vale apenas como ilustração."
   ]
  },
  {
   "cell_type": "markdown",
   "metadata": {
    "tags": []
   },
   "source": [
    "### Inserindo uma carteira pronta"
   ]
  },
  {
   "cell_type": "markdown",
   "metadata": {},
   "source": [
    "Para uma carteira pronta em arquivo ```.csv```, contendo as informações mencionadas anteriormente, devemos apenas informar os caracteres de separação de colunas, decimais e o nome do arquivo. Assim, usando o arquivo ```CarteiraTeste.csv``` como exemplo de carteira para realizarmos os gráficos, temos"
   ]
  },
  {
   "cell_type": "code",
   "execution_count": 1,
   "metadata": {},
   "outputs": [
    {
     "name": "stdin",
     "output_type": "stream",
     "text": [
      "Digite o nome do arquivo incluindo o .csv:  CarteiraTeste.csv\n",
      "Digite o caractere que separa as colunas:  ;\n",
      "Digite o caractere de decimal:  ,\n"
     ]
    },
    {
     "data": {
      "text/html": [
       "<div>\n",
       "<style scoped>\n",
       "    .dataframe tbody tr th:only-of-type {\n",
       "        vertical-align: middle;\n",
       "    }\n",
       "\n",
       "    .dataframe tbody tr th {\n",
       "        vertical-align: top;\n",
       "    }\n",
       "\n",
       "    .dataframe thead th {\n",
       "        text-align: right;\n",
       "    }\n",
       "</style>\n",
       "<table border=\"1\" class=\"dataframe\">\n",
       "  <thead>\n",
       "    <tr style=\"text-align: right;\">\n",
       "      <th></th>\n",
       "      <th>Ativo</th>\n",
       "      <th>Quantidade</th>\n",
       "      <th>Compra (R$)</th>\n",
       "      <th>Data da Compra</th>\n",
       "    </tr>\n",
       "  </thead>\n",
       "  <tbody>\n",
       "    <tr>\n",
       "      <th>0</th>\n",
       "      <td>VALE3</td>\n",
       "      <td>3</td>\n",
       "      <td>112.49</td>\n",
       "      <td>13/05/2021</td>\n",
       "    </tr>\n",
       "    <tr>\n",
       "      <th>1</th>\n",
       "      <td>PETR4</td>\n",
       "      <td>8</td>\n",
       "      <td>24.04</td>\n",
       "      <td>05/04/2021</td>\n",
       "    </tr>\n",
       "    <tr>\n",
       "      <th>2</th>\n",
       "      <td>ITUB4</td>\n",
       "      <td>2</td>\n",
       "      <td>30.80</td>\n",
       "      <td>25/06/2021</td>\n",
       "    </tr>\n",
       "    <tr>\n",
       "      <th>3</th>\n",
       "      <td>VALE3</td>\n",
       "      <td>4</td>\n",
       "      <td>96.09</td>\n",
       "      <td>18/03/2022</td>\n",
       "    </tr>\n",
       "    <tr>\n",
       "      <th>4</th>\n",
       "      <td>VALE3</td>\n",
       "      <td>15</td>\n",
       "      <td>77.08</td>\n",
       "      <td>04/01/2022</td>\n",
       "    </tr>\n",
       "    <tr>\n",
       "      <th>5</th>\n",
       "      <td>ITUB4</td>\n",
       "      <td>9</td>\n",
       "      <td>22.15</td>\n",
       "      <td>14/07/2022</td>\n",
       "    </tr>\n",
       "  </tbody>\n",
       "</table>\n",
       "</div>"
      ],
      "text/plain": [
       "   Ativo  Quantidade  Compra (R$) Data da Compra\n",
       "0  VALE3           3       112.49     13/05/2021\n",
       "1  PETR4           8        24.04     05/04/2021\n",
       "2  ITUB4           2        30.80     25/06/2021\n",
       "3  VALE3           4        96.09     18/03/2022\n",
       "4  VALE3          15        77.08     04/01/2022\n",
       "5  ITUB4           9        22.15     14/07/2022"
      ]
     },
     "execution_count": 1,
     "metadata": {},
     "output_type": "execute_result"
    }
   ],
   "source": [
    "from pandas import read_csv\n",
    "\n",
    "arquivo = input('Digite o nome do arquivo incluindo o .csv: ')\n",
    "\n",
    "separador = input('Digite o caractere que separa as colunas: ')\n",
    "\n",
    "dec = input('Digite o caractere de decimal: ')\n",
    "\n",
    "carteira = read_csv(arquivo,\n",
    "                    sep = separador,\n",
    "                    decimal = dec)\n",
    "\n",
    "carteira"
   ]
  },
  {
   "cell_type": "markdown",
   "metadata": {},
   "source": [
    "Aqui reiteramos mais uma vez que, neste notebook, os ativos escolhidos possuem finalidade estritamente ilustrativa. Também vale ressaltar que coloquei ativos comprados mais de uma vez para implementar as fórmulas da variação total e percentual."
   ]
  },
  {
   "cell_type": "markdown",
   "metadata": {
    "tags": []
   },
   "source": [
    "### Mudando o formato de data"
   ]
  },
  {
   "cell_type": "markdown",
   "metadata": {},
   "source": [
    "Como faremos uma requisição API do Yahoo Finanças, devemos transformar nossa string num objeto de data, que é feito com a biblioteca ```datetime``` e usando de novo a função ```read_csv```, mas especificando os parâmetros ```parse_dates``` e ```date_parser```."
   ]
  },
  {
   "cell_type": "code",
   "execution_count": 2,
   "metadata": {},
   "outputs": [
    {
     "data": {
      "text/html": [
       "<div>\n",
       "<style scoped>\n",
       "    .dataframe tbody tr th:only-of-type {\n",
       "        vertical-align: middle;\n",
       "    }\n",
       "\n",
       "    .dataframe tbody tr th {\n",
       "        vertical-align: top;\n",
       "    }\n",
       "\n",
       "    .dataframe thead th {\n",
       "        text-align: right;\n",
       "    }\n",
       "</style>\n",
       "<table border=\"1\" class=\"dataframe\">\n",
       "  <thead>\n",
       "    <tr style=\"text-align: right;\">\n",
       "      <th></th>\n",
       "      <th>Ativo</th>\n",
       "      <th>Quantidade</th>\n",
       "      <th>Compra (R$)</th>\n",
       "      <th>Data da Compra</th>\n",
       "    </tr>\n",
       "  </thead>\n",
       "  <tbody>\n",
       "    <tr>\n",
       "      <th>0</th>\n",
       "      <td>VALE3</td>\n",
       "      <td>3</td>\n",
       "      <td>112.49</td>\n",
       "      <td>2021-05-13</td>\n",
       "    </tr>\n",
       "    <tr>\n",
       "      <th>1</th>\n",
       "      <td>PETR4</td>\n",
       "      <td>8</td>\n",
       "      <td>24.04</td>\n",
       "      <td>2021-04-05</td>\n",
       "    </tr>\n",
       "    <tr>\n",
       "      <th>2</th>\n",
       "      <td>ITUB4</td>\n",
       "      <td>2</td>\n",
       "      <td>30.80</td>\n",
       "      <td>2021-06-25</td>\n",
       "    </tr>\n",
       "    <tr>\n",
       "      <th>3</th>\n",
       "      <td>VALE3</td>\n",
       "      <td>4</td>\n",
       "      <td>96.09</td>\n",
       "      <td>2022-03-18</td>\n",
       "    </tr>\n",
       "    <tr>\n",
       "      <th>4</th>\n",
       "      <td>VALE3</td>\n",
       "      <td>15</td>\n",
       "      <td>77.08</td>\n",
       "      <td>2022-01-04</td>\n",
       "    </tr>\n",
       "    <tr>\n",
       "      <th>5</th>\n",
       "      <td>ITUB4</td>\n",
       "      <td>9</td>\n",
       "      <td>22.15</td>\n",
       "      <td>2022-07-14</td>\n",
       "    </tr>\n",
       "  </tbody>\n",
       "</table>\n",
       "</div>"
      ],
      "text/plain": [
       "   Ativo  Quantidade  Compra (R$) Data da Compra\n",
       "0  VALE3           3       112.49     2021-05-13\n",
       "1  PETR4           8        24.04     2021-04-05\n",
       "2  ITUB4           2        30.80     2021-06-25\n",
       "3  VALE3           4        96.09     2022-03-18\n",
       "4  VALE3          15        77.08     2022-01-04\n",
       "5  ITUB4           9        22.15     2022-07-14"
      ]
     },
     "execution_count": 2,
     "metadata": {},
     "output_type": "execute_result"
    }
   ],
   "source": [
    "from datetime import datetime\n",
    "from pandas import read_csv\n",
    "\n",
    "def conversor(fecha):\n",
    "    return datetime.strptime(fecha, '%d/%m/%Y')\n",
    "\n",
    "carteira = read_csv(arquivo,\n",
    "                    sep = separador,\n",
    "                    decimal = dec,\n",
    "                    parse_dates = ['Data da Compra'],\n",
    "                    date_parser = conversor)\n",
    "\n",
    "carteira"
   ]
  },
  {
   "cell_type": "markdown",
   "metadata": {
    "tags": []
   },
   "source": [
    "## Processamento dos dados"
   ]
  },
  {
   "cell_type": "markdown",
   "metadata": {
    "tags": []
   },
   "source": [
    "### Criação das Sub-Carteiras"
   ]
  },
  {
   "cell_type": "markdown",
   "metadata": {},
   "source": [
    "A ideia desta seção é produzir DataFrame's contendo apenas um tipo de ativo através do objeto inicial ```carteira```. \n",
    "\n",
    "Antes disso, vamos ordenar toda a tabela pela ordem cronológica da data de compra, pois desta maneira todas as sub-carteiras estarão ordenadas nesse critério."
   ]
  },
  {
   "cell_type": "code",
   "execution_count": 3,
   "metadata": {},
   "outputs": [
    {
     "data": {
      "text/html": [
       "<div>\n",
       "<style scoped>\n",
       "    .dataframe tbody tr th:only-of-type {\n",
       "        vertical-align: middle;\n",
       "    }\n",
       "\n",
       "    .dataframe tbody tr th {\n",
       "        vertical-align: top;\n",
       "    }\n",
       "\n",
       "    .dataframe thead th {\n",
       "        text-align: right;\n",
       "    }\n",
       "</style>\n",
       "<table border=\"1\" class=\"dataframe\">\n",
       "  <thead>\n",
       "    <tr style=\"text-align: right;\">\n",
       "      <th></th>\n",
       "      <th>Ativo</th>\n",
       "      <th>Quantidade</th>\n",
       "      <th>Compra (R$)</th>\n",
       "      <th>Data da Compra</th>\n",
       "    </tr>\n",
       "  </thead>\n",
       "  <tbody>\n",
       "    <tr>\n",
       "      <th>1</th>\n",
       "      <td>PETR4</td>\n",
       "      <td>8</td>\n",
       "      <td>24.04</td>\n",
       "      <td>2021-04-05</td>\n",
       "    </tr>\n",
       "    <tr>\n",
       "      <th>0</th>\n",
       "      <td>VALE3</td>\n",
       "      <td>3</td>\n",
       "      <td>112.49</td>\n",
       "      <td>2021-05-13</td>\n",
       "    </tr>\n",
       "    <tr>\n",
       "      <th>2</th>\n",
       "      <td>ITUB4</td>\n",
       "      <td>2</td>\n",
       "      <td>30.80</td>\n",
       "      <td>2021-06-25</td>\n",
       "    </tr>\n",
       "    <tr>\n",
       "      <th>4</th>\n",
       "      <td>VALE3</td>\n",
       "      <td>15</td>\n",
       "      <td>77.08</td>\n",
       "      <td>2022-01-04</td>\n",
       "    </tr>\n",
       "    <tr>\n",
       "      <th>3</th>\n",
       "      <td>VALE3</td>\n",
       "      <td>4</td>\n",
       "      <td>96.09</td>\n",
       "      <td>2022-03-18</td>\n",
       "    </tr>\n",
       "    <tr>\n",
       "      <th>5</th>\n",
       "      <td>ITUB4</td>\n",
       "      <td>9</td>\n",
       "      <td>22.15</td>\n",
       "      <td>2022-07-14</td>\n",
       "    </tr>\n",
       "  </tbody>\n",
       "</table>\n",
       "</div>"
      ],
      "text/plain": [
       "   Ativo  Quantidade  Compra (R$) Data da Compra\n",
       "1  PETR4           8        24.04     2021-04-05\n",
       "0  VALE3           3       112.49     2021-05-13\n",
       "2  ITUB4           2        30.80     2021-06-25\n",
       "4  VALE3          15        77.08     2022-01-04\n",
       "3  VALE3           4        96.09     2022-03-18\n",
       "5  ITUB4           9        22.15     2022-07-14"
      ]
     },
     "execution_count": 3,
     "metadata": {},
     "output_type": "execute_result"
    }
   ],
   "source": [
    "carteira.sort_values(by = 'Data da Compra',\n",
    "                     inplace = True)\n",
    "\n",
    "carteira"
   ]
  },
  {
   "cell_type": "markdown",
   "metadata": {},
   "source": [
    "Agora vamos obter uma lista ordenada contendo o nome de todos os ativos que existem na carteira. Dentre as diferentes maneiras de fazer isso, vamos criar um conjunto para retirar os elementos repetidos, e depois criar uma lista em cima desse conjunto."
   ]
  },
  {
   "cell_type": "code",
   "execution_count": 4,
   "metadata": {},
   "outputs": [
    {
     "data": {
      "text/plain": [
       "['ITUB4', 'PETR4', 'VALE3']"
      ]
     },
     "execution_count": 4,
     "metadata": {},
     "output_type": "execute_result"
    }
   ],
   "source": [
    "lista = list( set(carteira['Ativo']) )\n",
    "\n",
    "lista.sort()\n",
    "\n",
    "lista"
   ]
  },
  {
   "cell_type": "markdown",
   "metadata": {},
   "source": [
    "Agora que temos essa lista, vamos percorrê-la de modo que em cada passo vamos criar uma sub-carteira com o método ```loc``` do pandas."
   ]
  },
  {
   "cell_type": "code",
   "execution_count": 5,
   "metadata": {},
   "outputs": [
    {
     "name": "stdout",
     "output_type": "stream",
     "text": [
      "   Ativo  Quantidade  Compra (R$) Data da Compra\n",
      "2  ITUB4           2        30.80     2021-06-25\n",
      "5  ITUB4           9        22.15     2022-07-14 \n",
      "\n",
      "   Ativo  Quantidade  Compra (R$) Data da Compra\n",
      "1  PETR4           8        24.04     2021-04-05 \n",
      "\n",
      "   Ativo  Quantidade  Compra (R$) Data da Compra\n",
      "0  VALE3           3       112.49     2021-05-13\n",
      "4  VALE3          15        77.08     2022-01-04\n",
      "3  VALE3           4        96.09     2022-03-18 \n",
      "\n"
     ]
    }
   ],
   "source": [
    "for nome in lista:\n",
    "    subcarteira = carteira.loc[ carteira['Ativo'] == nome ]\n",
    "    \n",
    "    print(subcarteira,'\\n')\n",
    "    # break"
   ]
  },
  {
   "cell_type": "markdown",
   "metadata": {
    "tags": []
   },
   "source": [
    "### Roteiro para os próximos passos"
   ]
  },
  {
   "cell_type": "markdown",
   "metadata": {},
   "source": [
    "Boa parte das linhas de comando daqui em diante estarão dentro do laço ```for``` do bloco executado anteriormente, porque devemos, para cada subcarteira,\n",
    "\n",
    "* Atualizar o valor da média ponderada a cada nova compra do mesmo ativo, o que significa criar uma nova coluna na subcarteira correspondente a $\\overline{X}_k$\n",
    "\n",
    "* Coletar a data mais antiga, que é a primeira pois os dados foram organizados de forma ascendente;\n",
    "\n",
    "* Usar essa data para fazer uma requisição API do Yahoo Finanças e coletar o histórico do preço do ativo no período da primeira compra até hoje, onde ```hoje = datetime.date.today()```;\n",
    "\n",
    "* Criar 2 DataFrame's com o mesmo número de linhas da tabela do histórico do preço do ativo, em que um é para os valores da Variação Total ($\\Delta (t)$), e outro é para a Variação Percentual ($\\delta (t)$). Obs: a cada recompra do mesmo ativo, as fórmulas que determinam essas variações mudam.\n",
    "\n",
    "* Fazer numa mesma tela um gráfico contendo as duas variações. Para isso é necessário haver 2 eixos y, um na direita e outro na esquerda da tela."
   ]
  },
  {
   "cell_type": "markdown",
   "metadata": {
    "tags": []
   },
   "source": [
    "### Médias Ponderadas"
   ]
  },
  {
   "cell_type": "markdown",
   "metadata": {},
   "source": [
    "Voltando à nossa subcarteira."
   ]
  },
  {
   "cell_type": "code",
   "execution_count": 6,
   "metadata": {},
   "outputs": [
    {
     "name": "stdout",
     "output_type": "stream",
     "text": [
      "   Ativo  Quantidade  Compra (R$) Data da Compra\n",
      "2  ITUB4           2        30.80     2021-06-25\n",
      "5  ITUB4           9        22.15     2022-07-14\n"
     ]
    }
   ],
   "source": [
    "for nome in lista:\n",
    "    subcarteira = carteira.loc[ carteira['Ativo'] == nome ]\n",
    "    \n",
    "    print(subcarteira)\n",
    "\n",
    "    break"
   ]
  },
  {
   "cell_type": "markdown",
   "metadata": {},
   "source": [
    "Vamos resetar os índices para conseguir criar uma nova coluna."
   ]
  },
  {
   "cell_type": "code",
   "execution_count": 6,
   "metadata": {},
   "outputs": [
    {
     "name": "stdout",
     "output_type": "stream",
     "text": [
      "   Ativo  Quantidade  Compra (R$) Data da Compra\n",
      "0  ITUB4           2        30.80     2021-06-25\n",
      "1  ITUB4           9        22.15     2022-07-14\n"
     ]
    }
   ],
   "source": [
    "for nome in lista:\n",
    "    subcarteira = carteira.loc[ carteira['Ativo'] == nome ]\n",
    "    \n",
    "    subcarteira = subcarteira.reset_index(drop = True)\n",
    "    \n",
    "    print(subcarteira)\n",
    "    \n",
    "    break"
   ]
  },
  {
   "cell_type": "markdown",
   "metadata": {},
   "source": [
    "Conforme visto na introdução, precisamos saber o valor da soma até a k-ésima compra, o que pode ser implementado com a função abaixo:"
   ]
  },
  {
   "cell_type": "code",
   "execution_count": 7,
   "metadata": {},
   "outputs": [],
   "source": [
    "def Soma(subcarteira):\n",
    "    lista_antiga = list(subcarteira['Quantidade'])\n",
    "    \n",
    "    lista_nova = []\n",
    "    for indice in range(0, len(lista_antiga)):\n",
    "        if indice == 0:\n",
    "            lista_nova.append(lista_antiga[indice])\n",
    "        else:\n",
    "            lista_nova.append( lista_antiga[indice] + lista_nova[indice - 1] )\n",
    "\n",
    "    return lista_nova"
   ]
  },
  {
   "cell_type": "markdown",
   "metadata": {},
   "source": [
    "Feito isso, vamos criar a coluna da k-ésima compra."
   ]
  },
  {
   "cell_type": "code",
   "execution_count": 8,
   "metadata": {},
   "outputs": [
    {
     "name": "stdout",
     "output_type": "stream",
     "text": [
      "   Ativo  Quantidade  Compra (R$) Data da Compra  Q_k\n",
      "0  ITUB4           2        30.80     2021-06-25    2\n",
      "1  ITUB4           9        22.15     2022-07-14   11\n"
     ]
    }
   ],
   "source": [
    "for nome in lista:\n",
    "    subcarteira = carteira.loc[ carteira['Ativo'] == nome ]\n",
    "    \n",
    "    subcarteira = subcarteira.reset_index(drop = True)\n",
    "    \n",
    "    \n",
    "    subcarteira['Q_k'] = Soma(subcarteira)\n",
    "\n",
    "      \n",
    "\n",
    "    print(subcarteira)\n",
    "    \n",
    "    break"
   ]
  },
  {
   "cell_type": "markdown",
   "metadata": {},
   "source": [
    "Sendo assim, o próximo passo é criar uma coluna correspondente à k-ésima média ponderada, que pode ser realizado com a função abaixo:"
   ]
  },
  {
   "cell_type": "code",
   "execution_count": 9,
   "metadata": {},
   "outputs": [],
   "source": [
    "from numpy import average\n",
    "\n",
    "def Media(subcarteira):\n",
    "    resultado = []\n",
    "\n",
    "    valores = list(subcarteira['Compra (R$)'])\n",
    "    pesos = list(subcarteira['Quantidade'])\n",
    "\n",
    "    v_parcial = []\n",
    "    p_parcial = []\n",
    "\n",
    "    for indice in range(0, len(valores)): # poderia ser len(pesos) também\n",
    "        v_parcial.append(valores[indice])\n",
    "        p_parcial.append(pesos[indice])\n",
    "\n",
    "        media = average(a = v_parcial,\n",
    "                        weights = p_parcial)\n",
    "\n",
    "        resultado.append(media)\n",
    "\n",
    "    return resultado"
   ]
  },
  {
   "cell_type": "markdown",
   "metadata": {},
   "source": [
    "Aplicando essa função dentro do laço, temos"
   ]
  },
  {
   "cell_type": "code",
   "execution_count": 10,
   "metadata": {},
   "outputs": [
    {
     "name": "stdout",
     "output_type": "stream",
     "text": [
      "   Ativo  Quantidade  Compra (R$) Data da Compra  Q_k        X_k\n",
      "0  ITUB4           2        30.80     2021-06-25    2  30.800000\n",
      "1  ITUB4           9        22.15     2022-07-14   11  23.722727\n"
     ]
    }
   ],
   "source": [
    "for nome in lista:\n",
    "    subcarteira = carteira.loc[ carteira['Ativo'] == nome ]\n",
    "    \n",
    "    subcarteira = subcarteira.reset_index(drop = True)\n",
    "        \n",
    "    subcarteira['Q_k'] = Soma(subcarteira)\n",
    "\n",
    "    subcarteira['X_k'] = Media(subcarteira)\n",
    "    \n",
    "\n",
    "    print(subcarteira)\n",
    "    \n",
    "    break"
   ]
  },
  {
   "cell_type": "markdown",
   "metadata": {
    "tags": []
   },
   "source": [
    "### Requisição API"
   ]
  },
  {
   "cell_type": "markdown",
   "metadata": {},
   "source": [
    "Uma forma de coletar o histórico de um ativo da bolsa de valores é através da biblioteca ```pandas_datareader```. Em particular, faremos uma requisição API do Yahoo Finanças.\n",
    "\n",
    "Começaremos criando uma função a fim de que o laço ```for``` não fique muito grande. Além disso, vale ressaltar que no site do Yahoo, as empresas estão listadas na forma 'XXXXY.SA', onde 'XXXXY' é o código listado na B3."
   ]
  },
  {
   "cell_type": "code",
   "execution_count": 11,
   "metadata": {},
   "outputs": [],
   "source": [
    "from datetime import date\n",
    "from pandas_datareader import data as web\n",
    "\n",
    "hoje = date.today()\n",
    "\n",
    "def yahoo(ativo,tabela):\n",
    "    \n",
    "    fechas = list( tabela['Data da Compra'] )\n",
    "    PrimeiraCompra = fechas[0]\n",
    "    \n",
    "    cotacoes = web.DataReader(ativo + '.SA', \n",
    "                               data_source = 'yahoo',\n",
    "                               start = PrimeiraCompra,\n",
    "                               end = hoje)\n",
    "    return cotacoes\n",
    "    "
   ]
  },
  {
   "cell_type": "markdown",
   "metadata": {},
   "source": [
    "Agora vamos testar essa função no nosso laço."
   ]
  },
  {
   "cell_type": "code",
   "execution_count": 12,
   "metadata": {},
   "outputs": [
    {
     "name": "stdout",
     "output_type": "stream",
     "text": [
      "                 High        Low       Open      Close      Volume  Adj Close\n",
      "Date                                                                         \n",
      "2021-06-25  32.130001  30.610001  31.980000  30.799999  38927900.0  30.011980\n",
      "2021-06-28  30.900000  30.049999  30.840000  30.450001  36032900.0  29.670940\n",
      "2021-06-29  30.440001  29.830000  30.260000  30.150000  30557500.0  29.378614\n",
      "2021-06-30  30.270000  29.770000  30.000000  29.799999  22510200.0  29.037567\n",
      "2021-07-01  29.980000  29.320000  29.790001  29.690001  20278100.0  28.944954\n",
      "...               ...        ...        ...        ...         ...        ...\n",
      "2022-08-02  23.840000  23.379999  23.629999  23.719999  21401200.0  23.719999\n",
      "2022-08-03  23.940001  23.540001  23.700001  23.889999  20046500.0  23.889999\n",
      "2022-08-04  24.570000  23.969999  24.049999  24.469999  33908800.0  24.469999\n",
      "2022-08-05  25.129999  24.230000  24.490000  24.930000  56175000.0  24.930000\n",
      "2022-08-08  25.290001  24.780001  25.080000  25.240000  40938100.0  25.240000\n",
      "\n",
      "[280 rows x 6 columns]\n"
     ]
    }
   ],
   "source": [
    "for nome in lista:\n",
    "    subcarteira = carteira.loc[ carteira['Ativo'] == nome ]\n",
    "    \n",
    "    subcarteira = subcarteira.reset_index(drop = True)\n",
    "        \n",
    "    subcarteira['Q_k'] = Soma(subcarteira)\n",
    "\n",
    "    subcarteira['X_k'] = Media(subcarteira)\n",
    "    \n",
    "    df = yahoo(nome,subcarteira)\n",
    "    \n",
    "    #print(subcarteira, '\\n')\n",
    "\n",
    "    print(df)\n",
    "    \n",
    "    break\n",
    "    #print(subcarteira,'\\n')"
   ]
  },
  {
   "cell_type": "markdown",
   "metadata": {},
   "source": [
    "Tomaremos o preço de fechamento como o valor base para calcular as variações. Assim, vamos excluir as demais colunas."
   ]
  },
  {
   "cell_type": "code",
   "execution_count": 13,
   "metadata": {},
   "outputs": [
    {
     "data": {
      "text/html": [
       "<div>\n",
       "<style scoped>\n",
       "    .dataframe tbody tr th:only-of-type {\n",
       "        vertical-align: middle;\n",
       "    }\n",
       "\n",
       "    .dataframe tbody tr th {\n",
       "        vertical-align: top;\n",
       "    }\n",
       "\n",
       "    .dataframe thead th {\n",
       "        text-align: right;\n",
       "    }\n",
       "</style>\n",
       "<table border=\"1\" class=\"dataframe\">\n",
       "  <thead>\n",
       "    <tr style=\"text-align: right;\">\n",
       "      <th></th>\n",
       "      <th>Close</th>\n",
       "    </tr>\n",
       "    <tr>\n",
       "      <th>Date</th>\n",
       "      <th></th>\n",
       "    </tr>\n",
       "  </thead>\n",
       "  <tbody>\n",
       "    <tr>\n",
       "      <th>2021-06-25</th>\n",
       "      <td>30.799999</td>\n",
       "    </tr>\n",
       "    <tr>\n",
       "      <th>2021-06-28</th>\n",
       "      <td>30.450001</td>\n",
       "    </tr>\n",
       "    <tr>\n",
       "      <th>2021-06-29</th>\n",
       "      <td>30.150000</td>\n",
       "    </tr>\n",
       "    <tr>\n",
       "      <th>2021-06-30</th>\n",
       "      <td>29.799999</td>\n",
       "    </tr>\n",
       "    <tr>\n",
       "      <th>2021-07-01</th>\n",
       "      <td>29.690001</td>\n",
       "    </tr>\n",
       "    <tr>\n",
       "      <th>...</th>\n",
       "      <td>...</td>\n",
       "    </tr>\n",
       "    <tr>\n",
       "      <th>2022-08-02</th>\n",
       "      <td>23.719999</td>\n",
       "    </tr>\n",
       "    <tr>\n",
       "      <th>2022-08-03</th>\n",
       "      <td>23.889999</td>\n",
       "    </tr>\n",
       "    <tr>\n",
       "      <th>2022-08-04</th>\n",
       "      <td>24.469999</td>\n",
       "    </tr>\n",
       "    <tr>\n",
       "      <th>2022-08-05</th>\n",
       "      <td>24.930000</td>\n",
       "    </tr>\n",
       "    <tr>\n",
       "      <th>2022-08-08</th>\n",
       "      <td>25.240000</td>\n",
       "    </tr>\n",
       "  </tbody>\n",
       "</table>\n",
       "<p>280 rows × 1 columns</p>\n",
       "</div>"
      ],
      "text/plain": [
       "                Close\n",
       "Date                 \n",
       "2021-06-25  30.799999\n",
       "2021-06-28  30.450001\n",
       "2021-06-29  30.150000\n",
       "2021-06-30  29.799999\n",
       "2021-07-01  29.690001\n",
       "...               ...\n",
       "2022-08-02  23.719999\n",
       "2022-08-03  23.889999\n",
       "2022-08-04  24.469999\n",
       "2022-08-05  24.930000\n",
       "2022-08-08  25.240000\n",
       "\n",
       "[280 rows x 1 columns]"
      ]
     },
     "execution_count": 13,
     "metadata": {},
     "output_type": "execute_result"
    }
   ],
   "source": [
    "df.drop(columns = ['High', 'Low', 'Open', 'Volume', 'Adj Close'],\n",
    "        inplace = True)\n",
    "\n",
    "df"
   ]
  },
  {
   "cell_type": "markdown",
   "metadata": {},
   "source": [
    "Note que executamos a linha de comando acima fora do laço para não correr o risco do nosso IP ser banido por fazer várias vezes uma requisição API. Quando terminarmos as análises, colocaremos todo o bloco de códigos desenvolvido daqui em diante de volta ao laço."
   ]
  },
  {
   "cell_type": "markdown",
   "metadata": {},
   "source": [
    "## Cálculo de $\\Delta (t)$ e $\\delta(t)$ propriamente dito"
   ]
  },
  {
   "cell_type": "markdown",
   "metadata": {},
   "source": [
    "Com todo o processamento de dados que fizemos anteriormente, estamos agora em condições de calcular as variações total e percentual de cada ativo em nossa carteira. \n",
    "\n",
    "Para começar, vejamos como ficou a tabela das cotações e a subcarteira."
   ]
  },
  {
   "cell_type": "code",
   "execution_count": 14,
   "metadata": {},
   "outputs": [
    {
     "name": "stdout",
     "output_type": "stream",
     "text": [
      "   Ativo  Quantidade  Compra (R$) Data da Compra  Q_k        X_k\n",
      "0  ITUB4           2        30.80     2021-06-25    2  30.800000\n",
      "1  ITUB4           9        22.15     2022-07-14   11  23.722727 \n",
      "\n",
      "                Close\n",
      "Date                 \n",
      "2021-06-25  30.799999\n",
      "2021-06-28  30.450001\n",
      "2021-06-29  30.150000\n",
      "2021-06-30  29.799999\n",
      "2021-07-01  29.690001\n",
      "...               ...\n",
      "2022-08-02  23.719999\n",
      "2022-08-03  23.889999\n",
      "2022-08-04  24.469999\n",
      "2022-08-05  24.930000\n",
      "2022-08-08  25.240000\n",
      "\n",
      "[280 rows x 1 columns]\n"
     ]
    }
   ],
   "source": [
    "print(subcarteira, '\\n')\n",
    "\n",
    "print(df)"
   ]
  },
  {
   "cell_type": "markdown",
   "metadata": {},
   "source": [
    "Note que $Q_k = Q(t_k)$, assim como $\\overline{X}_k = \\overline{X}(t_k)$, isto é, apenas atualizamos os valores da soma das quantidades (pesos) e da média ponderada no instante $t_k$, em que uma nova compra do mesmo ativo é feita.\n",
    "\n",
    "Tendo isso em vista, vamos criar duas novas colunas associadas a essas grandezas com a seguinte função."
   ]
  },
  {
   "cell_type": "code",
   "execution_count": 15,
   "metadata": {},
   "outputs": [],
   "source": [
    "def Copias(subcarteira, df):\n",
    "    listaQ = []\n",
    "    listaX = []\n",
    "\n",
    "    q = list( subcarteira['Q_k'])\n",
    "    x = list( subcarteira['X_k'])\n",
    "\n",
    "\n",
    "    DataCompra = list( subcarteira['Data da Compra'])\n",
    "    \n",
    "    ultimoindice = len(DataCompra) - 1\n",
    "    \n",
    "    UltimaData = DataCompra[ ultimoindice ]\n",
    "\n",
    "    indice = 0\n",
    "\n",
    "    for dia in df.index:\n",
    "\n",
    "        if dia >= UltimaData:\n",
    "\n",
    "            listaQ.append(q[ultimoindice])\n",
    "            listaX.append(x[ultimoindice])\n",
    "\n",
    "        else:\n",
    "\n",
    "            if dia >= DataCompra[indice] and dia < DataCompra[indice + 1]:\n",
    "\n",
    "                listaQ.append(q[indice])\n",
    "                listaX.append(x[indice])\n",
    "\n",
    "            else:\n",
    "\n",
    "                indice += 1\n",
    "                listaQ.append(q[indice])\n",
    "                listaX.append(x[indice])\n",
    "\n",
    "    return listaQ, listaX"
   ]
  },
  {
   "cell_type": "markdown",
   "metadata": {},
   "source": [
    "Aplicando essa função na nossa subcarteira e tabela de cotações,"
   ]
  },
  {
   "cell_type": "code",
   "execution_count": 20,
   "metadata": {},
   "outputs": [
    {
     "name": "stdout",
     "output_type": "stream",
     "text": [
      "[2, 2, 2, 2, 2, 2, 2, 2, 2, 2, 2, 2, 2, 2, 2, 2, 2, 2, 2, 2, 2, 2, 2, 2, 2, 2, 2, 2, 2, 2, 2, 2, 2, 2, 2, 2, 2, 2, 2, 2, 2, 2, 2, 2, 2, 2, 2, 2, 2, 2, 2, 2, 2, 2, 2, 2, 2, 2, 2, 2, 2, 2, 2, 2, 2, 2, 2, 2, 2, 2, 2, 2, 2, 2, 2, 2, 2, 2, 2, 2, 2, 2, 2, 2, 2, 2, 2, 2, 2, 2, 2, 2, 2, 2, 2, 2, 2, 2, 2, 2, 2, 2, 2, 2, 2, 2, 2, 2, 2, 2, 2, 2, 2, 2, 2, 2, 2, 2, 2, 2, 2, 2, 2, 2, 2, 2, 2, 2, 2, 2, 2, 2, 2, 2, 2, 2, 2, 2, 2, 2, 2, 2, 2, 2, 2, 2, 2, 2, 2, 2, 2, 2, 2, 2, 2, 2, 2, 2, 2, 2, 2, 2, 2, 2, 2, 2, 2, 2, 2, 2, 2, 2, 2, 2, 2, 2, 2, 2, 2, 2, 2, 2, 2, 2, 2, 2, 2, 2, 2, 2, 2, 2, 2, 2, 2, 2, 2, 2, 2, 2, 2, 2, 2, 2, 2, 2, 2, 2, 2, 2, 2, 2, 2, 2, 2, 2, 2, 2, 2, 2, 2, 2, 2, 2, 2, 2, 2, 2, 2, 2, 2, 2, 2, 2, 2, 2, 2, 2, 2, 2, 2, 2, 2, 2, 2, 2, 2, 2, 2, 2, 2, 2, 2, 2, 2, 2, 2, 2, 2, 2, 2, 2, 11, 11, 11, 11, 11, 11, 11, 11, 11, 11, 11, 11, 11, 11, 11, 11, 11]\n",
      "[30.8, 30.8, 30.8, 30.8, 30.8, 30.8, 30.8, 30.8, 30.8, 30.8, 30.8, 30.8, 30.8, 30.8, 30.8, 30.8, 30.8, 30.8, 30.8, 30.8, 30.8, 30.8, 30.8, 30.8, 30.8, 30.8, 30.8, 30.8, 30.8, 30.8, 30.8, 30.8, 30.8, 30.8, 30.8, 30.8, 30.8, 30.8, 30.8, 30.8, 30.8, 30.8, 30.8, 30.8, 30.8, 30.8, 30.8, 30.8, 30.8, 30.8, 30.8, 30.8, 30.8, 30.8, 30.8, 30.8, 30.8, 30.8, 30.8, 30.8, 30.8, 30.8, 30.8, 30.8, 30.8, 30.8, 30.8, 30.8, 30.8, 30.8, 30.8, 30.8, 30.8, 30.8, 30.8, 30.8, 30.8, 30.8, 30.8, 30.8, 30.8, 30.8, 30.8, 30.8, 30.8, 30.8, 30.8, 30.8, 30.8, 30.8, 30.8, 30.8, 30.8, 30.8, 30.8, 30.8, 30.8, 30.8, 30.8, 30.8, 30.8, 30.8, 30.8, 30.8, 30.8, 30.8, 30.8, 30.8, 30.8, 30.8, 30.8, 30.8, 30.8, 30.8, 30.8, 30.8, 30.8, 30.8, 30.8, 30.8, 30.8, 30.8, 30.8, 30.8, 30.8, 30.8, 30.8, 30.8, 30.8, 30.8, 30.8, 30.8, 30.8, 30.8, 30.8, 30.8, 30.8, 30.8, 30.8, 30.8, 30.8, 30.8, 30.8, 30.8, 30.8, 30.8, 30.8, 30.8, 30.8, 30.8, 30.8, 30.8, 30.8, 30.8, 30.8, 30.8, 30.8, 30.8, 30.8, 30.8, 30.8, 30.8, 30.8, 30.8, 30.8, 30.8, 30.8, 30.8, 30.8, 30.8, 30.8, 30.8, 30.8, 30.8, 30.8, 30.8, 30.8, 30.8, 30.8, 30.8, 30.8, 30.8, 30.8, 30.8, 30.8, 30.8, 30.8, 30.8, 30.8, 30.8, 30.8, 30.8, 30.8, 30.8, 30.8, 30.8, 30.8, 30.8, 30.8, 30.8, 30.8, 30.8, 30.8, 30.8, 30.8, 30.8, 30.8, 30.8, 30.8, 30.8, 30.8, 30.8, 30.8, 30.8, 30.8, 30.8, 30.8, 30.8, 30.8, 30.8, 30.8, 30.8, 30.8, 30.8, 30.8, 30.8, 30.8, 30.8, 30.8, 30.8, 30.8, 30.8, 30.8, 30.8, 30.8, 30.8, 30.8, 30.8, 30.8, 30.8, 30.8, 30.8, 30.8, 30.8, 30.8, 30.8, 30.8, 30.8, 30.8, 30.8, 30.8, 30.8, 30.8, 30.8, 30.8, 30.8, 30.8, 30.8, 30.8, 30.8, 30.8, 30.8, 23.722727272727273, 23.722727272727273, 23.722727272727273, 23.722727272727273, 23.722727272727273, 23.722727272727273, 23.722727272727273, 23.722727272727273, 23.722727272727273, 23.722727272727273, 23.722727272727273, 23.722727272727273, 23.722727272727273, 23.722727272727273, 23.722727272727273, 23.722727272727273, 23.722727272727273]\n"
     ]
    }
   ],
   "source": [
    "listaQ, listaX = Copias(subcarteira,df)\n",
    "\n",
    "print(listaQ)\n",
    "\n",
    "print(listaX)"
   ]
  },
  {
   "cell_type": "markdown",
   "metadata": {},
   "source": [
    "Incluindo esses dados em nosso DataFrame, "
   ]
  },
  {
   "cell_type": "code",
   "execution_count": 16,
   "metadata": {},
   "outputs": [
    {
     "data": {
      "text/html": [
       "<div>\n",
       "<style scoped>\n",
       "    .dataframe tbody tr th:only-of-type {\n",
       "        vertical-align: middle;\n",
       "    }\n",
       "\n",
       "    .dataframe tbody tr th {\n",
       "        vertical-align: top;\n",
       "    }\n",
       "\n",
       "    .dataframe thead th {\n",
       "        text-align: right;\n",
       "    }\n",
       "</style>\n",
       "<table border=\"1\" class=\"dataframe\">\n",
       "  <thead>\n",
       "    <tr style=\"text-align: right;\">\n",
       "      <th></th>\n",
       "      <th>Close</th>\n",
       "      <th>Q_k</th>\n",
       "      <th>X_k</th>\n",
       "    </tr>\n",
       "    <tr>\n",
       "      <th>Date</th>\n",
       "      <th></th>\n",
       "      <th></th>\n",
       "      <th></th>\n",
       "    </tr>\n",
       "  </thead>\n",
       "  <tbody>\n",
       "    <tr>\n",
       "      <th>2021-06-25</th>\n",
       "      <td>30.799999</td>\n",
       "      <td>2</td>\n",
       "      <td>30.800000</td>\n",
       "    </tr>\n",
       "    <tr>\n",
       "      <th>2021-06-28</th>\n",
       "      <td>30.450001</td>\n",
       "      <td>2</td>\n",
       "      <td>30.800000</td>\n",
       "    </tr>\n",
       "    <tr>\n",
       "      <th>2021-06-29</th>\n",
       "      <td>30.150000</td>\n",
       "      <td>2</td>\n",
       "      <td>30.800000</td>\n",
       "    </tr>\n",
       "    <tr>\n",
       "      <th>2021-06-30</th>\n",
       "      <td>29.799999</td>\n",
       "      <td>2</td>\n",
       "      <td>30.800000</td>\n",
       "    </tr>\n",
       "    <tr>\n",
       "      <th>2021-07-01</th>\n",
       "      <td>29.690001</td>\n",
       "      <td>2</td>\n",
       "      <td>30.800000</td>\n",
       "    </tr>\n",
       "    <tr>\n",
       "      <th>...</th>\n",
       "      <td>...</td>\n",
       "      <td>...</td>\n",
       "      <td>...</td>\n",
       "    </tr>\n",
       "    <tr>\n",
       "      <th>2022-08-02</th>\n",
       "      <td>23.719999</td>\n",
       "      <td>11</td>\n",
       "      <td>23.722727</td>\n",
       "    </tr>\n",
       "    <tr>\n",
       "      <th>2022-08-03</th>\n",
       "      <td>23.889999</td>\n",
       "      <td>11</td>\n",
       "      <td>23.722727</td>\n",
       "    </tr>\n",
       "    <tr>\n",
       "      <th>2022-08-04</th>\n",
       "      <td>24.469999</td>\n",
       "      <td>11</td>\n",
       "      <td>23.722727</td>\n",
       "    </tr>\n",
       "    <tr>\n",
       "      <th>2022-08-05</th>\n",
       "      <td>24.930000</td>\n",
       "      <td>11</td>\n",
       "      <td>23.722727</td>\n",
       "    </tr>\n",
       "    <tr>\n",
       "      <th>2022-08-08</th>\n",
       "      <td>25.240000</td>\n",
       "      <td>11</td>\n",
       "      <td>23.722727</td>\n",
       "    </tr>\n",
       "  </tbody>\n",
       "</table>\n",
       "<p>280 rows × 3 columns</p>\n",
       "</div>"
      ],
      "text/plain": [
       "                Close  Q_k        X_k\n",
       "Date                                 \n",
       "2021-06-25  30.799999    2  30.800000\n",
       "2021-06-28  30.450001    2  30.800000\n",
       "2021-06-29  30.150000    2  30.800000\n",
       "2021-06-30  29.799999    2  30.800000\n",
       "2021-07-01  29.690001    2  30.800000\n",
       "...               ...  ...        ...\n",
       "2022-08-02  23.719999   11  23.722727\n",
       "2022-08-03  23.889999   11  23.722727\n",
       "2022-08-04  24.469999   11  23.722727\n",
       "2022-08-05  24.930000   11  23.722727\n",
       "2022-08-08  25.240000   11  23.722727\n",
       "\n",
       "[280 rows x 3 columns]"
      ]
     },
     "execution_count": 16,
     "metadata": {},
     "output_type": "execute_result"
    }
   ],
   "source": [
    "# df['Q_k'] = listaQ\n",
    "\n",
    "# df['X_k'] = listaX\n",
    "\n",
    "df['Q_k'], df['X_k'] = Copias(subcarteira,df)\n",
    "\n",
    "df"
   ]
  },
  {
   "cell_type": "markdown",
   "metadata": {},
   "source": [
    "Para verificarmos se de fato a mudança da soma das quantidades e da média ponderada foram inseridas na data correta, que no nosso caso é o dia 14/07/2022, vejamos a tabela perto desse instante."
   ]
  },
  {
   "cell_type": "code",
   "execution_count": 17,
   "metadata": {},
   "outputs": [
    {
     "data": {
      "text/html": [
       "<div>\n",
       "<style scoped>\n",
       "    .dataframe tbody tr th:only-of-type {\n",
       "        vertical-align: middle;\n",
       "    }\n",
       "\n",
       "    .dataframe tbody tr th {\n",
       "        vertical-align: top;\n",
       "    }\n",
       "\n",
       "    .dataframe thead th {\n",
       "        text-align: right;\n",
       "    }\n",
       "</style>\n",
       "<table border=\"1\" class=\"dataframe\">\n",
       "  <thead>\n",
       "    <tr style=\"text-align: right;\">\n",
       "      <th></th>\n",
       "      <th>Close</th>\n",
       "      <th>Q_k</th>\n",
       "      <th>X_k</th>\n",
       "    </tr>\n",
       "    <tr>\n",
       "      <th>Date</th>\n",
       "      <th></th>\n",
       "      <th></th>\n",
       "      <th></th>\n",
       "    </tr>\n",
       "  </thead>\n",
       "  <tbody>\n",
       "    <tr>\n",
       "      <th>2022-07-13</th>\n",
       "      <td>22.400000</td>\n",
       "      <td>2</td>\n",
       "      <td>30.800000</td>\n",
       "    </tr>\n",
       "    <tr>\n",
       "      <th>2022-07-14</th>\n",
       "      <td>22.150000</td>\n",
       "      <td>11</td>\n",
       "      <td>23.722727</td>\n",
       "    </tr>\n",
       "    <tr>\n",
       "      <th>2022-07-15</th>\n",
       "      <td>22.549999</td>\n",
       "      <td>11</td>\n",
       "      <td>23.722727</td>\n",
       "    </tr>\n",
       "  </tbody>\n",
       "</table>\n",
       "</div>"
      ],
      "text/plain": [
       "                Close  Q_k        X_k\n",
       "Date                                 \n",
       "2022-07-13  22.400000    2  30.800000\n",
       "2022-07-14  22.150000   11  23.722727\n",
       "2022-07-15  22.549999   11  23.722727"
      ]
     },
     "execution_count": 17,
     "metadata": {},
     "output_type": "execute_result"
    }
   ],
   "source": [
    "df.loc['2022-07-13':'2022-07-15',:]"
   ]
  },
  {
   "cell_type": "markdown",
   "metadata": {},
   "source": [
    "Como podemos ver, a função alterou o valor de $Q_k$ e $\\overline{X}_k$ na data esperada. \n",
    "\n",
    "Feito isso, podemos calcular o valor das variações usando diretamente as fórmulas desenvolvidas na introdução."
   ]
  },
  {
   "cell_type": "code",
   "execution_count": 18,
   "metadata": {},
   "outputs": [
    {
     "data": {
      "text/html": [
       "<div>\n",
       "<style scoped>\n",
       "    .dataframe tbody tr th:only-of-type {\n",
       "        vertical-align: middle;\n",
       "    }\n",
       "\n",
       "    .dataframe tbody tr th {\n",
       "        vertical-align: top;\n",
       "    }\n",
       "\n",
       "    .dataframe thead th {\n",
       "        text-align: right;\n",
       "    }\n",
       "</style>\n",
       "<table border=\"1\" class=\"dataframe\">\n",
       "  <thead>\n",
       "    <tr style=\"text-align: right;\">\n",
       "      <th></th>\n",
       "      <th>Close</th>\n",
       "      <th>Q_k</th>\n",
       "      <th>X_k</th>\n",
       "      <th>Variação Total (R$)</th>\n",
       "      <th>Variação Percentual</th>\n",
       "    </tr>\n",
       "    <tr>\n",
       "      <th>Date</th>\n",
       "      <th></th>\n",
       "      <th></th>\n",
       "      <th></th>\n",
       "      <th></th>\n",
       "      <th></th>\n",
       "    </tr>\n",
       "  </thead>\n",
       "  <tbody>\n",
       "    <tr>\n",
       "      <th>2021-06-25</th>\n",
       "      <td>30.799999</td>\n",
       "      <td>2</td>\n",
       "      <td>30.800000</td>\n",
       "      <td>-0.000002</td>\n",
       "      <td>-2.477076e-08</td>\n",
       "    </tr>\n",
       "    <tr>\n",
       "      <th>2021-06-28</th>\n",
       "      <td>30.450001</td>\n",
       "      <td>2</td>\n",
       "      <td>30.800000</td>\n",
       "      <td>-0.699998</td>\n",
       "      <td>-1.136361e-02</td>\n",
       "    </tr>\n",
       "    <tr>\n",
       "      <th>2021-06-29</th>\n",
       "      <td>30.150000</td>\n",
       "      <td>2</td>\n",
       "      <td>30.800000</td>\n",
       "      <td>-1.300001</td>\n",
       "      <td>-2.110391e-02</td>\n",
       "    </tr>\n",
       "    <tr>\n",
       "      <th>2021-06-30</th>\n",
       "      <td>29.799999</td>\n",
       "      <td>2</td>\n",
       "      <td>30.800000</td>\n",
       "      <td>-2.000002</td>\n",
       "      <td>-3.246756e-02</td>\n",
       "    </tr>\n",
       "    <tr>\n",
       "      <th>2021-07-01</th>\n",
       "      <td>29.690001</td>\n",
       "      <td>2</td>\n",
       "      <td>30.800000</td>\n",
       "      <td>-2.219999</td>\n",
       "      <td>-3.603894e-02</td>\n",
       "    </tr>\n",
       "    <tr>\n",
       "      <th>...</th>\n",
       "      <td>...</td>\n",
       "      <td>...</td>\n",
       "      <td>...</td>\n",
       "      <td>...</td>\n",
       "      <td>...</td>\n",
       "    </tr>\n",
       "    <tr>\n",
       "      <th>2022-08-02</th>\n",
       "      <td>23.719999</td>\n",
       "      <td>11</td>\n",
       "      <td>23.722727</td>\n",
       "      <td>-0.030008</td>\n",
       "      <td>-1.149935e-04</td>\n",
       "    </tr>\n",
       "    <tr>\n",
       "      <th>2022-08-03</th>\n",
       "      <td>23.889999</td>\n",
       "      <td>11</td>\n",
       "      <td>23.722727</td>\n",
       "      <td>1.839993</td>\n",
       "      <td>7.051133e-03</td>\n",
       "    </tr>\n",
       "    <tr>\n",
       "      <th>2022-08-04</th>\n",
       "      <td>24.469999</td>\n",
       "      <td>11</td>\n",
       "      <td>23.722727</td>\n",
       "      <td>8.219992</td>\n",
       "      <td>3.150026e-02</td>\n",
       "    </tr>\n",
       "    <tr>\n",
       "      <th>2022-08-05</th>\n",
       "      <td>24.930000</td>\n",
       "      <td>11</td>\n",
       "      <td>23.722727</td>\n",
       "      <td>13.280003</td>\n",
       "      <td>5.089099e-02</td>\n",
       "    </tr>\n",
       "    <tr>\n",
       "      <th>2022-08-08</th>\n",
       "      <td>25.240000</td>\n",
       "      <td>11</td>\n",
       "      <td>23.722727</td>\n",
       "      <td>16.689997</td>\n",
       "      <td>6.395860e-02</td>\n",
       "    </tr>\n",
       "  </tbody>\n",
       "</table>\n",
       "<p>280 rows × 5 columns</p>\n",
       "</div>"
      ],
      "text/plain": [
       "                Close  Q_k        X_k  Variação Total (R$)  \\\n",
       "Date                                                         \n",
       "2021-06-25  30.799999    2  30.800000            -0.000002   \n",
       "2021-06-28  30.450001    2  30.800000            -0.699998   \n",
       "2021-06-29  30.150000    2  30.800000            -1.300001   \n",
       "2021-06-30  29.799999    2  30.800000            -2.000002   \n",
       "2021-07-01  29.690001    2  30.800000            -2.219999   \n",
       "...               ...  ...        ...                  ...   \n",
       "2022-08-02  23.719999   11  23.722727            -0.030008   \n",
       "2022-08-03  23.889999   11  23.722727             1.839993   \n",
       "2022-08-04  24.469999   11  23.722727             8.219992   \n",
       "2022-08-05  24.930000   11  23.722727            13.280003   \n",
       "2022-08-08  25.240000   11  23.722727            16.689997   \n",
       "\n",
       "            Variação Percentual  \n",
       "Date                             \n",
       "2021-06-25        -2.477076e-08  \n",
       "2021-06-28        -1.136361e-02  \n",
       "2021-06-29        -2.110391e-02  \n",
       "2021-06-30        -3.246756e-02  \n",
       "2021-07-01        -3.603894e-02  \n",
       "...                         ...  \n",
       "2022-08-02        -1.149935e-04  \n",
       "2022-08-03         7.051133e-03  \n",
       "2022-08-04         3.150026e-02  \n",
       "2022-08-05         5.089099e-02  \n",
       "2022-08-08         6.395860e-02  \n",
       "\n",
       "[280 rows x 5 columns]"
      ]
     },
     "execution_count": 18,
     "metadata": {},
     "output_type": "execute_result"
    }
   ],
   "source": [
    "df['Variação Total (R$)'] = df['Q_k'] * (df['Close'] - df['X_k'])\n",
    "\n",
    "df['Variação Percentual'] = (df['Close'] / df['X_k']) -1\n",
    "\n",
    "df"
   ]
  },
  {
   "cell_type": "markdown",
   "metadata": {},
   "source": [
    "## Gráficos"
   ]
  },
  {
   "cell_type": "markdown",
   "metadata": {},
   "source": [
    "Para fazermos gráficos de séries temporais, precisamos executar a seguinte função do pandas."
   ]
  },
  {
   "cell_type": "code",
   "execution_count": 19,
   "metadata": {},
   "outputs": [],
   "source": [
    "from pandas.plotting import register_matplotlib_converters\n",
    "\n",
    "register_matplotlib_converters()"
   ]
  },
  {
   "cell_type": "markdown",
   "metadata": {},
   "source": [
    "Agora definamos uma função que realiza os gráficos das variações."
   ]
  },
  {
   "cell_type": "code",
   "execution_count": 40,
   "metadata": {},
   "outputs": [],
   "source": [
    "from matplotlib.pyplot import subplots,show\n",
    "\n",
    "def graficos(df):\n",
    "    \n",
    "    fig, ax1 = subplots()\n",
    "\n",
    "    ax1.set_xlabel('t')\n",
    "    ax1.set_ylabel('Variação Total (R$)') #, color=color)\n",
    "\n",
    "    ax1.plot(df['Variação Total (R$)'], color = 'navy', label = '$\\Delta(t)$') \n",
    "    ax1.legend(loc = 'lower left')\n",
    "\n",
    "    ax2 = ax1.twinx() \n",
    "\n",
    "    ax2.set_ylabel('Variação Percentual')\n",
    "    ax2.plot(df['Variação Percentual'], color = 'green', label = '$\\delta(t)$')\n",
    "    ax2.legend(loc = 'lower right')\n",
    "\n",
    "    fig.tight_layout() \n",
    "    show()"
   ]
  },
  {
   "cell_type": "markdown",
   "metadata": {},
   "source": [
    "Aplicando essa função em nossa tabela."
   ]
  },
  {
   "cell_type": "code",
   "execution_count": 41,
   "metadata": {},
   "outputs": [
    {
     "data": {
      "image/png": "[encoded data removed]",
      "text/plain": [
       "<Figure size 1080x576 with 2 Axes>"
      ]
     },
     "metadata": {
      "needs_background": "light"
     },
     "output_type": "display_data"
    }
   ],
   "source": [
    "graficos(df)"
   ]
  },
  {
   "cell_type": "markdown",
   "metadata": {},
   "source": [
    "Como estamos num notebook, vamos alterar a função de modo que o tamanho do gráfico fique maior."
   ]
  },
  {
   "cell_type": "code",
   "execution_count": 38,
   "metadata": {},
   "outputs": [],
   "source": [
    "from matplotlib.pyplot import subplots,show, rcParams\n",
    "\n",
    "rcParams['figure.figsize'] = (15,8)\n",
    "\n",
    "def graficos(df):\n",
    "    \n",
    "    fig, ax1 = subplots()\n",
    "\n",
    "    ax1.set_xlabel('t')\n",
    "    ax1.set_ylabel('Variação Total (R$)') #, color=color)\n",
    "\n",
    "    ax1.plot(df['Variação Total (R$)'], color = 'navy', label = '$\\Delta(t)$') \n",
    "    ax1.legend(loc = 'lower left')\n",
    "\n",
    "    ax2 = ax1.twinx() \n",
    "\n",
    "    ax2.set_ylabel('Variação Percentual')\n",
    "    ax2.plot(df['Variação Percentual'], color = 'green', label = '$\\delta(t)$')\n",
    "    ax2.legend(loc = 'lower right')\n",
    "\n",
    "    fig.tight_layout()\n",
    "    \n",
    "    #fig.figsize(10,10)\n",
    "    \n",
    "    show()"
   ]
  },
  {
   "cell_type": "code",
   "execution_count": 39,
   "metadata": {},
   "outputs": [
    {
     "data": {
      "image/png": "[encoded data removed]",
      "text/plain": [
       "<Figure size 1080x576 with 2 Axes>"
      ]
     },
     "metadata": {
      "needs_background": "light"
     },
     "output_type": "display_data"
    }
   ],
   "source": [
    "graficos(df)"
   ]
  },
  {
   "cell_type": "code",
   "execution_count": null,
   "metadata": {},
   "outputs": [],
   "source": []
  }
 ],
 "metadata": {
  "kernelspec": {
   "display_name": "Python 3 (ipykernel)",
   "language": "python",
   "name": "python3"
  },
  "language_info": {
   "codemirror_mode": {
    "name": "ipython",
    "version": 3
   },
   "file_extension": ".py",
   "mimetype": "text/x-python",
   "name": "python",
   "nbconvert_exporter": "python",
   "pygments_lexer": "ipython3",
   "version": "3.8.10"
  },
  "vscode": {
   "interpreter": {
    "hash": "31f2aee4e71d21fbe5cf8b01ff0e069b9275f58929596ceb00d14d90e3e16cd6"
   }
  }
 },
 "nbformat": 4,
 "nbformat_minor": 4
}
